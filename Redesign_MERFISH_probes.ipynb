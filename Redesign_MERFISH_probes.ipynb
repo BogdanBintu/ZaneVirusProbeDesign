{
 "cells": [
  {
   "cell_type": "code",
   "execution_count": 1,
   "id": "018dbd93",
   "metadata": {},
   "outputs": [],
   "source": [
    "import numpy as np"
   ]
  },
  {
   "cell_type": "code",
   "execution_count": 2,
   "id": "6c2faf6b",
   "metadata": {},
   "outputs": [],
   "source": [
    "genes,transcripts,probes = np.array([ln[:-1].split(',') for ln in open(r'41586_2021_3705_MOESM4_ESM.csv','r')][2:]).T"
   ]
  },
  {
   "cell_type": "code",
   "execution_count": 3,
   "id": "b5afa976",
   "metadata": {},
   "outputs": [],
   "source": [
    "#probes_ = np.array([[subpb for subpb in pb.split(' ') if len(subpb)>2] for pb in probes])"
   ]
  },
  {
   "cell_type": "code",
   "execution_count": 4,
   "id": "72985446",
   "metadata": {},
   "outputs": [],
   "source": [
    "set_,genes_ann = [],[]\n",
    "for ign,gn in enumerate(genes):\n",
    "    if gn not in set_:\n",
    "        set_.append(gn)\n",
    "        gn_count=1\n",
    "    genes_ann.append(gn+'_pb_'+str(gn_count).zfill(3))\n",
    "    gn_count+=1\n",
    "    \n",
    "#genes_ann"
   ]
  },
  {
   "cell_type": "code",
   "execution_count": 5,
   "id": "4b978992",
   "metadata": {},
   "outputs": [],
   "source": [
    "import numpy as np\n",
    "txts = [ln.replace('\\n','').split(',') for ln in open(r'C:\\Users\\Bogdan\\Dropbox\\ChrisGlass_Project\\readouts_primers\\NDB_brightness2.csv','r') if len(ln)>2]\n",
    "head = txts[0]\n",
    "txts = np.array(txts)[1:]\n",
    "ndbs_info = np.array([r for r1,r2,r3 in zip(txts[txts[:,1]=='750'],txts[txts[:,1]=='647'],txts[txts[:,1]=='561']) for r in [r1,r2,r3]])\n",
    "pcr_primers = np.array([ln.replace('\\n','').split(',') for ln in open(r'C:\\Users\\Bogdan\\Dropbox\\ChrisGlass_Project\\readouts_primers\\PCR_primers - pcr.csv','r') if len(ln)>2][1:])"
   ]
  },
  {
   "cell_type": "code",
   "execution_count": 6,
   "id": "4a3bc858",
   "metadata": {},
   "outputs": [],
   "source": [
    "readouts,ncts = np.unique([pb.split(' ')[2] for gn,pb in zip(genes_ann,probes) if len(pb)==118],return_counts=True)\n",
    "readouts2,ncts2 = np.unique([pb.split(' ')[4] for gn,pb in zip(genes_ann,probes) if len(pb)==97],return_counts=True)\n",
    "readouts = list(readouts)+list(readouts2)\n",
    "nRnms,nRs = ndbs_info[:22+16,[0,-1]].T\n",
    "#nRnms_seq,nRs_seq = ndbs_info[22:22+16,[0,-1]].T"
   ]
  },
  {
   "cell_type": "code",
   "execution_count": 7,
   "id": "6222766e",
   "metadata": {},
   "outputs": [
    {
     "data": {
      "text/plain": [
       "{'1700022I11Rik': [0, 1, 2, 17],\n",
       " '1810046K07Rik': [5, 14, 16, 19],\n",
       " '5031425F14Rik': [1, 5, 6, 15],\n",
       " '5730522E02Rik': [3, 9, 10, 20],\n",
       " 'Acta2': [6, 10, 17, 19],\n",
       " 'Adam2': [4, 13, 16, 18],\n",
       " 'Adamts2': [1, 7, 10, 19],\n",
       " 'Adamts4': [8, 12, 13, 14],\n",
       " 'Adra1b': [2, 10, 15, 21],\n",
       " 'Alk': [7, 11, 16, 20],\n",
       " 'Ankfn1': [0, 1, 5, 12],\n",
       " 'Ano4': [4, 5, 10, 15],\n",
       " 'Aqp4': [1, 12, 19, 21],\n",
       " 'Asic4': [7, 16, 19, 21],\n",
       " 'B4galnt2': [3, 4, 20, 21],\n",
       " 'B4galnt3': [2, 3, 5, 20],\n",
       " 'Barx2': [5, 8, 12, 20],\n",
       " 'Bcl11b': [3, 9, 12, 13],\n",
       " 'Bdnf': [0, 2, 4, 19],\n",
       " 'Bgn': [0, 7, 14, 19],\n",
       " 'Blnk': [4, 5, 17, 18],\n",
       " 'Bmpr1b': [5, 11, 14, 15],\n",
       " 'Brinp3': [3, 4, 11, 19],\n",
       " 'C1ql3': [1, 3, 9, 15],\n",
       " 'C1qtnf7': [2, 7, 9, 18],\n",
       " 'Cacng5': [2, 5, 8, 19],\n",
       " 'Calb2': [4, 18, 19, 20],\n",
       " 'Camk2d': [4, 7, 9, 12],\n",
       " 'Car3': [2, 3, 17, 19],\n",
       " 'Cbln2': [1, 3, 11, 17],\n",
       " 'Cbln4': [5, 12, 18, 21],\n",
       " 'Ccbe1': [0, 6, 12, 15],\n",
       " 'Ccdc162': [0, 17, 20, 21],\n",
       " 'Ccdc3': [0, 14, 16, 21],\n",
       " 'Ccdc80': [3, 8, 11, 21],\n",
       " 'Ccnb1': [6, 9, 10, 16],\n",
       " 'Cd14': [2, 10, 14, 17],\n",
       " 'Cd24a': [3, 4, 8, 18],\n",
       " 'Cdca7': [10, 12, 16, 19],\n",
       " 'Cdcp1': [4, 7, 10, 17],\n",
       " 'Cdh12': [4, 12, 17, 21],\n",
       " 'Cdh13': [1, 4, 13, 14],\n",
       " 'Cdh20': [9, 12, 15, 18],\n",
       " 'Cdh9': [1, 3, 12, 18],\n",
       " 'Ceacam9': [11, 15, 16, 19],\n",
       " 'Cemip': [3, 5, 12, 19],\n",
       " 'Chat': [0, 2, 18, 20],\n",
       " 'Chn2': [2, 5, 11, 18],\n",
       " 'Chodl': [15, 16, 20, 21],\n",
       " 'Chrm2': [1, 6, 9, 21],\n",
       " 'Chrna2': [5, 9, 16, 20],\n",
       " 'Cldn5': [0, 11, 13, 14],\n",
       " 'Clrn1': [6, 8, 11, 15],\n",
       " 'Cntnap5b': [4, 8, 11, 20],\n",
       " 'Cobll1': [5, 7, 10, 18],\n",
       " 'Col14a1': [5, 7, 15, 17],\n",
       " 'Col15a1': [5, 13, 16, 17],\n",
       " 'Col23a1': [2, 4, 5, 21],\n",
       " 'Col24a1': [7, 9, 14, 15],\n",
       " 'Col25a1': [8, 12, 17, 19],\n",
       " 'Corin': [3, 5, 10, 16],\n",
       " 'Cplx3': [7, 11, 14, 17],\n",
       " 'Crhr2': [3, 6, 16, 20],\n",
       " 'Crispld2': [9, 13, 17, 20],\n",
       " 'Cspg4': [13, 14, 17, 19],\n",
       " 'Ctss': [8, 15, 16, 18],\n",
       " 'Cux2': [0, 5, 11, 20],\n",
       " 'Cxcl14': [3, 6, 15, 21],\n",
       " 'Daam2': [1, 4, 17, 19],\n",
       " 'Dmkn': [7, 13, 15, 16],\n",
       " 'Dnase1l3': [4, 7, 15, 18],\n",
       " 'Dscaml1': [0, 8, 17, 18],\n",
       " 'Egfem1': [1, 10, 11, 13],\n",
       " 'Egfr': [0, 1, 3, 19],\n",
       " 'Egln3': [1, 3, 7, 14],\n",
       " 'Egr2': [0, 5, 7, 16],\n",
       " 'Elfn1': [2, 7, 12, 15],\n",
       " 'Enpp6': [6, 10, 13, 14],\n",
       " 'Epha7': [13, 16, 19, 20],\n",
       " 'Fam19a2': [0, 3, 4, 17],\n",
       " 'Fam84b': [1, 10, 16, 21],\n",
       " 'Fbxl7': [0, 8, 11, 12],\n",
       " 'Fezf2': [14, 15, 17, 21],\n",
       " 'Flrt3': [1, 4, 8, 12],\n",
       " 'Flt1': [5, 7, 14, 21],\n",
       " 'Fndc7': [6, 8, 10, 12],\n",
       " 'Fosb': [3, 10, 14, 19],\n",
       " 'Foxp2': [0, 2, 8, 21],\n",
       " 'Frem2': [3, 5, 6, 9],\n",
       " 'Fst': [8, 11, 18, 19],\n",
       " 'Gfap': [4, 12, 14, 15],\n",
       " 'Glra1': [0, 15, 16, 17],\n",
       " 'Gpc6': [5, 6, 12, 13],\n",
       " 'Grik1': [2, 3, 13, 14],\n",
       " 'Grin3a': [6, 9, 12, 19],\n",
       " 'Grm1': [8, 10, 14, 20],\n",
       " 'Grm8': [4, 6, 11, 13],\n",
       " 'Hpse': [0, 8, 10, 15],\n",
       " 'Hs3st5': [2, 10, 16, 20],\n",
       " 'Igf2': [2, 9, 12, 14],\n",
       " 'Igfbp4': [1, 8, 14, 15],\n",
       " 'Igfbp5': [0, 4, 12, 20],\n",
       " 'Ikzf2': [9, 11, 14, 21],\n",
       " 'Il1rapl2': [0, 5, 19, 21],\n",
       " 'Il4ra': [0, 3, 5, 18],\n",
       " 'Inpp4b': [4, 9, 10, 21],\n",
       " 'Iqgap2': [1, 5, 8, 11],\n",
       " 'Itgb8': [1, 7, 12, 16],\n",
       " 'Kcng1': [1, 10, 15, 20],\n",
       " 'Kcnj8': [7, 12, 14, 18],\n",
       " 'L3mbtl4': [0, 7, 13, 17],\n",
       " 'Lama3': [10, 11, 12, 15],\n",
       " 'Lhx6': [11, 13, 15, 20],\n",
       " 'Lmo1': [1, 2, 20, 21],\n",
       " 'Lsp1': [3, 6, 14, 17],\n",
       " 'Ltf': [11, 12, 17, 18],\n",
       " 'Luzp2': [1, 2, 7, 13],\n",
       " 'Lypd1': [11, 13, 16, 21],\n",
       " 'Lyzl4': [10, 12, 13, 20],\n",
       " '1-Mar': [3, 4, 15, 16],\n",
       " 'Marcksl1': [3, 7, 8, 15],\n",
       " 'Meis2': [6, 12, 14, 20],\n",
       " 'Moxd1': [2, 8, 17, 20],\n",
       " 'Mrc1': [2, 8, 14, 16],\n",
       " 'Mrgprx2': [9, 13, 14, 16],\n",
       " 'Muc20': [1, 5, 18, 19],\n",
       " 'Myh14': [10, 15, 17, 18],\n",
       " 'Ndst4': [0, 1, 8, 20],\n",
       " 'Nhs': [9, 11, 15, 17],\n",
       " 'Nkain3': [5, 9, 15, 21],\n",
       " 'Nnmt': [2, 12, 19, 20],\n",
       " 'Nos1': [7, 11, 13, 19],\n",
       " 'Npas1': [13, 15, 19, 21],\n",
       " 'Npnt': [7, 10, 12, 21],\n",
       " 'Npsr1': [6, 7, 8, 21],\n",
       " 'Npy2r': [3, 11, 18, 20],\n",
       " 'Nr2f2': [0, 4, 5, 8],\n",
       " 'Nr4a1': [2, 6, 13, 17],\n",
       " 'Nr4a2': [1, 4, 6, 10],\n",
       " 'Ntng2': [7, 13, 20, 21],\n",
       " 'Nxph1': [1, 3, 5, 21],\n",
       " 'Nxph2': [3, 10, 13, 17],\n",
       " 'Nxph4': [4, 11, 18, 21],\n",
       " 'Olah': [8, 18, 20, 21],\n",
       " 'Olfm3': [6, 12, 16, 17],\n",
       " 'Opalin': [2, 4, 9, 15],\n",
       " 'Oprk1': [8, 9, 10, 19],\n",
       " 'Osr1': [9, 16, 17, 19],\n",
       " 'Otof': [2, 6, 14, 19],\n",
       " 'Parm1': [3, 18, 19, 21],\n",
       " 'Pcdh8': [0, 4, 10, 13],\n",
       " 'Pde11a': [3, 13, 15, 18],\n",
       " 'Pdgfc': [0, 1, 6, 13],\n",
       " 'Pdgfra': [5, 17, 19, 20],\n",
       " 'Pdlim5': [2, 6, 9, 20],\n",
       " 'Phactr2': [4, 8, 19, 21],\n",
       " 'Plch1': [1, 2, 11, 19],\n",
       " 'Plcxd3': [5, 10, 12, 14],\n",
       " 'Pld5': [0, 1, 4, 11],\n",
       " 'Plekhg3': [0, 11, 17, 19],\n",
       " 'Pou3f1': [3, 12, 17, 20],\n",
       " 'Pou3f3': [1, 9, 13, 18],\n",
       " 'Pou6f2': [4, 9, 14, 18],\n",
       " 'Prdm8': [1, 6, 11, 14],\n",
       " 'Prok2': [8, 10, 16, 17],\n",
       " 'Prokr2': [2, 17, 18, 21],\n",
       " 'Prox1': [0, 3, 7, 10],\n",
       " 'Prr16': [9, 10, 11, 18],\n",
       " 'Prss12': [5, 6, 8, 14],\n",
       " 'Prss23': [2, 3, 9, 16],\n",
       " 'Ptger3': [1, 2, 3, 4],\n",
       " 'Ptprk': [0, 2, 6, 7],\n",
       " 'Ptprm': [11, 19, 20, 21],\n",
       " 'Ptprt': [2, 5, 9, 10],\n",
       " 'Ptpru': [0, 6, 10, 11],\n",
       " 'Pxdc1': [0, 1, 18, 21],\n",
       " 'Ramp1': [1, 8, 17, 21],\n",
       " 'Reln': [0, 7, 9, 20],\n",
       " 'Rerg': [14, 16, 17, 20],\n",
       " 'Rfx3': [3, 6, 13, 19],\n",
       " 'Rgs5': [1, 2, 8, 18],\n",
       " 'Rgs6': [0, 10, 16, 18],\n",
       " 'Rnf152': [7, 11, 15, 21],\n",
       " 'Ror1': [1, 7, 8, 9],\n",
       " 'Rorb': [4, 10, 11, 14],\n",
       " 'Rspo1': [2, 3, 6, 10],\n",
       " 'Rxfp1': [3, 6, 7, 11],\n",
       " 'Rxfp2': [5, 9, 14, 17],\n",
       " 'Satb2': [6, 8, 9, 17],\n",
       " 'Scgn': [5, 11, 17, 21],\n",
       " 'Sema3e': [1, 4, 5, 20],\n",
       " 'Sema5a': [2, 14, 15, 18],\n",
       " 'Serpinf1': [2, 7, 10, 11],\n",
       " 'Sertm1': [2, 5, 6, 16],\n",
       " 'Sgcd': [2, 8, 9, 13],\n",
       " 'Shisa9': [3, 8, 13, 16],\n",
       " 'Slc17a6': [5, 6, 10, 20],\n",
       " 'Slc17a8': [7, 15, 19, 20],\n",
       " 'Slc25a13': [3, 12, 14, 16],\n",
       " 'Slc30a3': [4, 8, 13, 15],\n",
       " 'Slc32a1': [1, 11, 12, 20],\n",
       " 'Slc44a5': [5, 13, 14, 20],\n",
       " 'Slco5a1': [6, 13, 18, 21],\n",
       " 'Sncg': [3, 5, 8, 17],\n",
       " 'Sox10': [0, 9, 11, 16],\n",
       " 'Sox6': [5, 7, 9, 11],\n",
       " 'Sp8': [0, 2, 3, 11],\n",
       " 'Spon1': [0, 9, 15, 19],\n",
       " 'St6galnac5': [4, 6, 16, 21],\n",
       " 'Sulf1': [6, 15, 18, 19],\n",
       " 'Sulf2': [10, 14, 18, 21],\n",
       " 'Syndig1': [4, 5, 11, 12],\n",
       " 'Syt10': [1, 17, 18, 20],\n",
       " 'Syt6': [6, 11, 16, 18],\n",
       " 'Tbc1d4': [7, 8, 13, 18],\n",
       " 'Tcap': [0, 12, 18, 19],\n",
       " 'Teddm3': [6, 8, 16, 19],\n",
       " 'Tenm3': [1, 14, 16, 18],\n",
       " 'Th': [3, 7, 16, 18],\n",
       " 'Thbs2': [2, 4, 7, 14],\n",
       " 'Thsd7a': [4, 7, 8, 16],\n",
       " 'Timp3': [4, 6, 15, 20],\n",
       " 'Tmem163': [5, 9, 13, 19],\n",
       " 'Tmtc2': [2, 10, 13, 19],\n",
       " 'Tnfaip6': [9, 10, 12, 17],\n",
       " 'Tox': [3, 4, 7, 13],\n",
       " 'Trp53i11': [1, 4, 9, 16],\n",
       " 'Trpc4': [9, 14, 19, 20],\n",
       " 'Trpc6': [6, 7, 18, 20],\n",
       " 'Tshz2': [3, 8, 19, 20],\n",
       " 'Tunar': [0, 5, 13, 15],\n",
       " 'Ubash3b': [2, 3, 8, 12],\n",
       " 'Unc13c': [0, 14, 15, 20],\n",
       " 'Unc5b': [1, 12, 13, 15],\n",
       " 'Unc5d': [4, 6, 7, 19],\n",
       " 'Ust': [0, 4, 6, 14],\n",
       " 'Vipr2': [0, 1, 10, 14],\n",
       " 'Vtn': [2, 4, 12, 18],\n",
       " 'Vwc2': [6, 8, 13, 20],\n",
       " 'Wipf3': [3, 8, 9, 14],\n",
       " 'Wnt7b': [8, 9, 12, 16],\n",
       " 'Zfp804b': [1, 6, 7, 17],\n",
       " 'Vip': [33],\n",
       " 'Sst': [30],\n",
       " 'Calb1': [31],\n",
       " 'Rab3b': [29],\n",
       " 'Gad2': [32],\n",
       " 'Slc17a7': [36],\n",
       " 'Tac2': [34],\n",
       " 'Penk': [25],\n",
       " 'Lamp5': [37],\n",
       " 'Cd52': [22],\n",
       " 'Rprml': [28],\n",
       " 'Mup5': [27],\n",
       " 'Cnr1': [26],\n",
       " 'Gad1': [24],\n",
       " 'Pvalb': [35],\n",
       " 'Igfbp6': [23]}"
      ]
     },
     "execution_count": 7,
     "metadata": {},
     "output_type": "execute_result"
    }
   ],
   "source": [
    "set_,gene_redouts = [],{}\n",
    "for gn in genes:\n",
    "    gene_redouts[gn]=[]\n",
    "for ign,gn in enumerate(genes):\n",
    "    if len(probes[ign])==118:\n",
    "        gene_redouts[gn] += [probes[ign].split(' ')[2]]\n",
    "    else:\n",
    "        gene_redouts[gn] += [probes[ign].split(' ')[4]]\n",
    "dic_gn_readouts = {gn:[readouts.index(e)for e in np.unique(gene_redouts[gn])]for gn in gene_redouts}\n",
    "dic_gn_readouts"
   ]
  },
  {
   "cell_type": "code",
   "execution_count": 8,
   "id": "4e76e2c3",
   "metadata": {},
   "outputs": [],
   "source": [
    "import sys,os\n",
    "sys.path.append(os.path.abspath(r'LibraryDesign3'))\n",
    "#sys.path.append(r'/LibraryDesign3')\n",
    "import LibraryDesigner as ld\n",
    "import LibraryTools as lt\n",
    "from seqint import seq2Int, seq2Int_rc\n",
    "# some other packages may required\n",
    "import Bio #use pip install biopython"
   ]
  },
  {
   "cell_type": "code",
   "execution_count": null,
   "id": "48fee544",
   "metadata": {},
   "outputs": [],
   "source": [
    "W1A07_DNA,/5Acryd/CGCAAACTGGTGCGGAAGGC,250nm,HPLC\n",
    "W1A07_DNA,CGCAAACTGGTGCGGAAGGC,100nm,STD\n",
    "W1A08_primer_7,TAATACGACTCACTATAGGGCCCTTTCGCGCTGCATCGAC,100nm,STD"
   ]
  },
  {
   "cell_type": "code",
   "execution_count": 9,
   "id": "48db0bc6",
   "metadata": {},
   "outputs": [],
   "source": [
    "names_lib,seqs_lib=[],[]\n",
    "icount=0\n",
    "A,nmA = 'CGCAAACTGGTGCGGAAGGC','W1A07'\n",
    "nmB,Bf = pcr_primers[7]\n",
    "B = lt.seqrc(Bf[-20:])\n",
    "for gn,gn_ann,pb in zip(genes,genes_ann,probes):\n",
    "    sq = pb.split(' ')[3] if len(pb)==118 else pb.split(' ')[2]\n",
    "    tag = \"MERFISH__\" if len(pb)==118 else \"SEQ__\"\n",
    "    iRs = dic_gn_readouts[gn]\n",
    "    iR = iRs[icount%len(iRs)]\n",
    "    Rnm,R = nRnms[iR],nRs[iR]\n",
    "    icount+=1\n",
    "    nnm = tag+Rnm+'__'+gn_ann\n",
    "    sq_ = lt.up_down([A,R,sq,R,R,B])\n",
    "    seqs_lib.append(sq_)\n",
    "    names_lib.append(nnm)"
   ]
  },
  {
   "cell_type": "code",
   "execution_count": 26,
   "id": "006f59b0",
   "metadata": {},
   "outputs": [
    {
     "name": "stdout",
     "output_type": "stream",
     "text": [
      "W1A08_primer_7\n",
      "TAATACGACTCACTATAGGGCCCTTTCGCGCTGCATCGAC\n"
     ]
    }
   ],
   "source": [
    "print(nmB)\n",
    "print(Bf)"
   ]
  },
  {
   "cell_type": "code",
   "execution_count": 17,
   "id": "3a076294",
   "metadata": {},
   "outputs": [],
   "source": [
    "lt.fastawrite(r'C:\\Users\\Bogdan\\Dropbox\\Bing_viral_enhancers\\BR_BB_4_13_22.fasta',\n",
    "             names_lib,\n",
    "             seqs_lib)"
   ]
  },
  {
   "cell_type": "code",
   "execution_count": 20,
   "id": "138229fb",
   "metadata": {},
   "outputs": [
    {
     "data": {
      "text/plain": [
       "(22734, array([130]))"
      ]
     },
     "execution_count": 20,
     "metadata": {},
     "output_type": "execute_result"
    }
   ],
   "source": [
    "len(seqs_lib),np.unique([len(sq)for sq in seqs_lib])"
   ]
  },
  {
   "cell_type": "code",
   "execution_count": 24,
   "id": "1eb32924",
   "metadata": {},
   "outputs": [
    {
     "data": {
      "text/plain": [
       "array(['CGCAAACTGGTGCGGAAGGC___gtcgatgcagcgcgaaaggg'], dtype='<U43')"
      ]
     },
     "execution_count": 24,
     "metadata": {},
     "output_type": "execute_result"
    }
   ],
   "source": [
    "np.unique([sq[:20]+'___'+sq[-20:]for nm,sq in zip(names_lib,seqs_lib)])"
   ]
  },
  {
   "cell_type": "code",
   "execution_count": 53,
   "id": "bbf4922a",
   "metadata": {},
   "outputs": [],
   "source": [
    "sqs_ndbs = [sq_.lower() for sq_ in ndbs_info[:,-1]]\n",
    "\n",
    "Ru,nctsu = np.unique([sq[20:40] for sq in seqs_lib],return_counts=True)\n",
    "np.unique([sqs_ndbs.index(R)for R in Ru])"
   ]
  },
  {
   "cell_type": "code",
   "execution_count": 56,
   "id": "489de375",
   "metadata": {},
   "outputs": [
    {
     "data": {
      "text/plain": [
       "array([ 0,  1,  2,  3,  4,  5,  6,  7,  8,  9, 10, 11, 12, 13, 14, 15, 16,\n",
       "       17, 18, 19, 20, 21, 22, 23, 24, 25, 26, 27, 28, 29, 30, 31, 32, 33,\n",
       "       34, 35, 36, 37])"
      ]
     },
     "execution_count": 56,
     "metadata": {},
     "output_type": "execute_result"
    }
   ],
   "source": [
    "Ru,nctsu = np.unique([sq[20:40] for sq in seqs_lib],return_counts=True)\n",
    "np.unique([sqs_ndbs.index(R)for R in Ru])"
   ]
  },
  {
   "cell_type": "markdown",
   "id": "d5b7f8e8",
   "metadata": {},
   "source": [
    "### Make probes for SYFP2"
   ]
  },
  {
   "cell_type": "code",
   "execution_count": 36,
   "id": "0bdd5222",
   "metadata": {},
   "outputs": [],
   "source": [
    "SYFPseq = \"atggtgagcaagggcgaggagctgttcaccggggtggtgcccatcctggtcgagctggacggcgacgtaaacggccacaagttcagcgtgtccggcgagggcgagggcgatgccacctacggcaagctgaccctgaagctgatctgcaccaccggcaagctgcccgtgccctggcccaccctcgtgaccaccctgggctacggcgtgcagtgcttcgcccgctaccccgaccacatgaagcagcacgacttcttcaagtccgccatgcccgaaggctacgtccaggagcgcaccatcttcttcaaggacgacggcaactacaagacccgcgccgaggtgaagttcgagggcgacaccctggtgaaccgcatcgagctgaagggcatcgacttcaaggaggacggcaacatcctggggcacaagctggagtacaactacaacagccacaacgtctatatcaccgccgacaagcagaagaacggcatcaaggccaacttcaagatccgccacaacatcgaggacggcggcgtgcagctcgccgaccactaccagcagaacacccccatcggcgacggccccgtgctgctgcccgacaaccactacctgagctaccagtccaagctgagcaaagaccccaacgagaagcgcgatcacatggtcctgctggagttcgtgaccgccgccgggatcactctcggcatggacgagctgtacaagtaa\"\n",
    "len(SYFPseq)\n",
    "lt.fastawrite(r'C:\\Users\\Bogdan\\Dropbox\\Bing_viral_enhancers\\SYFP2.fasta',\n",
    "             ['SYFP2'],\n",
    "             [SYFPseq])"
   ]
  },
  {
   "cell_type": "code",
   "execution_count": 37,
   "id": "8e49cb76",
   "metadata": {},
   "outputs": [],
   "source": [
    "import sys,os\n",
    "sys.path.append(os.path.abspath(r'LibraryDesign3'))\n",
    "import LibraryTools as lt\n",
    "import numpy as np"
   ]
  },
  {
   "cell_type": "code",
   "execution_count": 40,
   "id": "e49c513d",
   "metadata": {},
   "outputs": [
    {
     "name": "stdout",
     "output_type": "stream",
     "text": [
      "Setting attribute: map_transcriptome\n",
      "Setting attribute: map_top_transcriptome\n",
      "Mapping no. of seqs: 2922\n",
      "Setting attribute: map_repetitive\n",
      "Mapping no. of seqs: 67029\n",
      "Setting attribute: map_local_transcript\n",
      "Mapping no. of seqs: 1\n",
      "Time(s): 272.3549654483795\n",
      "Dealing with sequence: 1 out of 1\n"
     ]
    },
    {
     "name": "stderr",
     "output_type": "stream",
     "text": [
      "100%|██████████████████████████████████████████████████████████████████████████████| 690/690 [00:00<00:00, 7180.96it/s]\n"
     ]
    },
    {
     "name": "stdout",
     "output_type": "stream",
     "text": [
      "Time(s): 6.9002861976623535\n",
      "Picking non-overlaping sequences.\n",
      "Time(s): 3.6723365783691406\n"
     ]
    }
   ],
   "source": [
    "import LibraryDesigner as ld\n",
    "#in_file = in_files[0]#r'C:\\Users\\Bogdan\\Dropbox\\ChrisGlass_Project\\seqs_genes\\markers\\Adarb2_exons.fasta'\n",
    "in_file = r'C:\\Users\\Bogdan\\Dropbox\\Bing_viral_enhancers\\SYFP2.fasta'\n",
    "save_file = in_file.replace('.fasta','.pbr')\n",
    "\n",
    "transcriptome_fl = r'C:\\Users\\Bogdan\\Dropbox\\ChrisGlass_Project\\mm10_transcriptome\\mouse_GRCm39_genesUnspliced_17w.bin'\n",
    "genome_fl = r'C:\\Users\\Bogdan\\Dropbox\\ChrisGlass_Project\\mm10\\allgenome_17w.bin'\n",
    "rep_fl = r'C:\\Users\\Bogdan\\Dropbox\\ChrisGlass_Project\\mm10\\repetitive\\repetitive.fasta'\n",
    "top_transcriptome_fl =  r'C:\\Users\\Bogdan\\Dropbox\\ChrisGlass_Project\\mm10_transcriptome\\top_genes_micro_ctx.fasta'\n",
    "\n",
    "\n",
    "\n",
    "pb_designer = ld.pb_reports_class(\n",
    "    sequence_dic={'file':in_file,'use_revc':False,'use_kmer':True},\n",
    "    map_dic={'transcriptome':{'file':transcriptome_fl,'use_revc':False,'use_kmer':True},\n",
    "             'top_transcriptome':{'file':top_transcriptome_fl,'use_revc':False,'use_kmer':True},\n",
    "          'repetitive':{'file':rep_fl,'use_revc':True,'use_kmer':True},\n",
    "          'local_transcript':{'file':in_file,'use_revc':False,'use_kmer':True}},\n",
    "          #'local_genome':{'file':local_genome_fl,'force_list':True,'use_revc':True,'use_kmer':True}},\n",
    "    save_file=save_file,\n",
    "    params_dic={'word_size':17,'pb_len':30,'buffer_len':0,'max_count':2**16-1,'check_on_go':False,'auto':False},\n",
    "    dic_check={('transcriptome','local_transcript'):15,\n",
    "                ('top_transcriptome','local_transcript'):0,\n",
    "                'repetitive':0,'gc':[0.25,0.75],'tm':70})\n",
    "\n",
    "pb_designer.computeOTmaps()\n",
    "pb_designer.compute_pb_report(verbose=True)\n",
    "pb_designer.perform_check_end()\n",
    "pb_designer.plots()\n",
    "pb_designer.save_csv(name=os.path.basename(in_file).split('.')[0])"
   ]
  },
  {
   "cell_type": "code",
   "execution_count": null,
   "id": "2711d611",
   "metadata": {},
   "outputs": [],
   "source": []
  },
  {
   "cell_type": "code",
   "execution_count": null,
   "id": "c39e587e",
   "metadata": {},
   "outputs": [],
   "source": []
  },
  {
   "cell_type": "code",
   "execution_count": 43,
   "id": "20b68268",
   "metadata": {},
   "outputs": [],
   "source": [
    "def read_target_seqs(fl):\n",
    "    txts = np.array([ln.replace('\\n','').split(',') for ln in open(fl,'r') if len(ln)>2][1:])\n",
    "    seqs = np.array([txt.replace(\"'\",'')[1:] for txt in txts[:,0]])\n",
    "    names = txts[:,1]\n",
    "    return names,seqs\n",
    "\n",
    "names_pbs,seqs_pbs = read_target_seqs(r'C:\\Users\\Bogdan\\Dropbox\\Bing_viral_enhancers\\SYFP2.csv')"
   ]
  },
  {
   "cell_type": "code",
   "execution_count": 137,
   "id": "aecdd660",
   "metadata": {},
   "outputs": [
    {
     "name": "stdout",
     "output_type": "stream",
     "text": [
      "NDB_784_i1_-2xStv_82rc,tagaaatatccgagtggcatTTTGCACTGCCGTCCTTGACTTTGCACTGCCGTCCTTGAC,250nm,STD\n",
      "NDB_755_i2_-2xStv_1rc,tgcgacatgttatgctaggcGATCCGATTGGAACCGTCCCGATCCGATTGGAACCGTCCC,250nm,STD\n",
      "NDB_759_i3_-2xStv_79rc,tgactgtcgttgactctcggTGCGAACTGTCCGGCTTTCATGCGAACTGTCCGGCTTTCA,250nm,STD\n",
      "NDB_826_i4_-2xStv_82rc,atatgtcgatgtccttagacTTTGCACTGCCGTCCTTGACTTTGCACTGCCGTCCTTGAC,250nm,STD\n",
      "NDB_578_i5_-2xStv_1rc,aggcgatacatgagaggcgtGATCCGATTGGAACCGTCCCGATCCGATTGGAACCGTCCC,250nm,STD\n",
      "NDB_795_i6_-2xStv_79rc,gggcgtctgttacacgtttgTGCGAACTGTCCGGCTTTCATGCGAACTGTCCGGCTTTCA,250nm,STD\n",
      "NDB_376_i7_-2xStv_82rc,gactttgtgggtacgttgatTTTGCACTGCCGTCCTTGACTTTGCACTGCCGTCCTTGAC,250nm,STD\n",
      "NDB_713_i8_-2xStv_1rc,ggtggttgtcactttccgaaGATCCGATTGGAACCGTCCCGATCCGATTGGAACCGTCCC,250nm,STD\n",
      "NDB_777_i9_-2xStv_79rc,cggcgaatttgctttcgttaTGCGAACTGTCCGGCTTTCATGCGAACTGTCCGGCTTTCA,250nm,STD\n",
      "NDB_865_i10_-2xStv_82rc,gatcccggtcggatatgtgaTTTGCACTGCCGTCCTTGACTTTGCACTGCCGTCCTTGAC,250nm,STD\n",
      "NDB_533_i11_-2xStv_1rc,gtcggctgcgtactggtacaGATCCGATTGGAACCGTCCCGATCCGATTGGAACCGTCCC,250nm,STD\n",
      "NDB_801_i12_-2xStv_79rc,gtcggtgtccacgatcattgTGCGAACTGTCCGGCTTTCATGCGAACTGTCCGGCTTTCA,250nm,STD\n",
      "NDB_817_i13_-2xStv_82rc,gaactcgttgactaagcattTTTGCACTGCCGTCCTTGACTTTGCACTGCCGTCCTTGAC,250nm,STD\n",
      "NDB_725_i14_-2xStv_1rc,ctaccacggcatcgatttagGATCCGATTGGAACCGTCCCGATCCGATTGGAACCGTCCC,250nm,STD\n",
      "NDB_807_i15_-2xStv_79rc,cggtatgctgcttcgtgaacTGCGAACTGTCCGGCTTTCATGCGAACTGTCCGGCTTTCA,250nm,STD\n",
      "NDB_652_i16_-2xStv_82rc,taggcgctttagtaggtaccTTTGCACTGCCGTCCTTGACTTTGCACTGCCGTCCTTGAC,250nm,STD\n",
      "NDB_710_i17_-2xStv_1rc,tcaactactaagccgcggtaGATCCGATTGGAACCGTCCCGATCCGATTGGAACCGTCCC,250nm,STD\n",
      "NDB_690_i18_-2xStv_79rc,gaacggcctcataaatcggtTGCGAACTGTCCGGCTTTCATGCGAACTGTCCGGCTTTCA,250nm,STD\n",
      "NDB_718_i19_-2xStv_82rc,cgtattgcaggatccttatgTTTGCACTGCCGTCCTTGACTTTGCACTGCCGTCCTTGAC,250nm,STD\n",
      "NDB_971_i20_-2xStv_1rc,cttatcgcaaggtggccttaGATCCGATTGGAACCGTCCCGATCCGATTGGAACCGTCCC,250nm,STD\n",
      "NDB_699_i21_-2xStv_79rc,atcgaccctttatagcgtgtTGCGAACTGTCCGGCTTTCATGCGAACTGTCCGGCTTTCA,250nm,STD\n",
      "NDB_847_i22_-2xStv_82rc,ggtcacgtacgagacattggTTTGCACTGCCGTCCTTGACTTTGCACTGCCGTCCTTGAC,250nm,STD\n",
      "NDB_743_i23_-2xStv_1rc,cgatcaaggtgtgccgcgtcGATCCGATTGGAACCGTCCCGATCCGATTGGAACCGTCCC,250nm,STD\n",
      "NDB_936_i24_-2xStv_79rc,gtggtaccgtggaacgcaacTGCGAACTGTCCGGCTTTCATGCGAACTGTCCGGCTTTCA,250nm,STD\n",
      "NDB_643_i25_-2xStv_82rc,cgaacgacctgttaccttgcTTTGCACTGCCGTCCTTGACTTTGCACTGCCGTCCTTGAC,250nm,STD\n",
      "NDB_683_i26_-2xStv_1rc,accgcgtccgcagagcaaacGATCCGATTGGAACCGTCCCGATCCGATTGGAACCGTCCC,250nm,STD\n",
      "NDB_456_i27_-2xStv_79rc,tgttcgaatccgccttcaacTGCGAACTGTCCGGCTTTCATGCGAACTGTCCGGCTTTCA,250nm,STD\n",
      "NDB_760_i28_-2xStv_82rc,gttagatggccgctcgggttTTTGCACTGCCGTCCTTGACTTTGCACTGCCGTCCTTGAC,250nm,STD\n",
      "NDB_815_i29_-2xStv_1rc,ttgcacgcagcgattgacgcGATCCGATTGGAACCGTCCCGATCCGATTGGAACCGTCCC,250nm,STD\n",
      "NDB_738_i30_-2xStv_79rc,atcaggtttacgcccatgtcTGCGAACTGTCCGGCTTTCATGCGAACTGTCCGGCTTTCA,250nm,STD\n",
      "NDB_400_i31_-2xStv_82rc,tagcgcctgaattagctataTTTGCACTGCCGTCCTTGACTTTGCACTGCCGTCCTTGAC,250nm,STD\n",
      "NDB_965_i32_-2xStv_1rc,atccggcgcgcgagactaagGATCCGATTGGAACCGTCCCGATCCGATTGGAACCGTCCC,250nm,STD\n",
      "NDB_750_i33_-2xStv_79rc,atgcgaaccgtctcaaagcaTGCGAACTGTCCGGCTTTCATGCGAACTGTCCGGCTTTCA,250nm,STD\n",
      "NDB_790_i34_-2xStv_82rc,ggtgtcggttaaatattcctTTTGCACTGCCGTCCTTGACTTTGCACTGCCGTCCTTGAC,250nm,STD\n",
      "NDB_464_i35_-2xStv_1rc,ttgggaacgccttcatatccGATCCGATTGGAACCGTCCCGATCCGATTGGAACCGTCCC,250nm,STD\n",
      "NDB_825_i36_-2xStv_79rc,gcgaaggttagcctcgaagcTGCGAACTGTCCGGCTTTCATGCGAACTGTCCGGCTTTCA,250nm,STD\n",
      "NDB_778_i37_-2xStv_82rc,aatgatgccttgcggttcttTTTGCACTGCCGTCCTTGACTTTGCACTGCCGTCCTTGAC,250nm,STD\n",
      "NDB_431_i38_-2xStv_1rc,gttcaccggaatacttctgaGATCCGATTGGAACCGTCCCGATCCGATTGGAACCGTCCC,250nm,STD\n",
      "NDB_768_i39_-2xStv_79rc,catatcggtcggctaacactTGCGAACTGTCCGGCTTTCATGCGAACTGTCCGGCTTTCA,250nm,STD\n",
      "NDB_844_i40_-2xStv_82rc,cgtctggatcgtctatcaatTTTGCACTGCCGTCCTTGACTTTGCACTGCCGTCCTTGAC,250nm,STD\n"
     ]
    }
   ],
   "source": [
    "for ln in \"\"\"NDB_784_i1_-2xStv_82rc,tagaaatatccgagtggcatTTTGCACTGCCGTCCTTGACTTTGCACTGCCGTCCTTGAC\n",
    "NDB_755_i2_-2xStv_1rc,tgcgacatgttatgctaggcGATCCGATTGGAACCGTCCCGATCCGATTGGAACCGTCCC\n",
    "NDB_759_i3_-2xStv_79rc,tgactgtcgttgactctcggTGCGAACTGTCCGGCTTTCATGCGAACTGTCCGGCTTTCA\n",
    "NDB_826_i4_-2xStv_82rc,atatgtcgatgtccttagacTTTGCACTGCCGTCCTTGACTTTGCACTGCCGTCCTTGAC\n",
    "NDB_578_i5_-2xStv_1rc,aggcgatacatgagaggcgtGATCCGATTGGAACCGTCCCGATCCGATTGGAACCGTCCC\n",
    "NDB_795_i6_-2xStv_79rc,gggcgtctgttacacgtttgTGCGAACTGTCCGGCTTTCATGCGAACTGTCCGGCTTTCA\n",
    "NDB_376_i7_-2xStv_82rc,gactttgtgggtacgttgatTTTGCACTGCCGTCCTTGACTTTGCACTGCCGTCCTTGAC\n",
    "NDB_713_i8_-2xStv_1rc,ggtggttgtcactttccgaaGATCCGATTGGAACCGTCCCGATCCGATTGGAACCGTCCC\n",
    "NDB_777_i9_-2xStv_79rc,cggcgaatttgctttcgttaTGCGAACTGTCCGGCTTTCATGCGAACTGTCCGGCTTTCA\n",
    "NDB_865_i10_-2xStv_82rc,gatcccggtcggatatgtgaTTTGCACTGCCGTCCTTGACTTTGCACTGCCGTCCTTGAC\n",
    "NDB_533_i11_-2xStv_1rc,gtcggctgcgtactggtacaGATCCGATTGGAACCGTCCCGATCCGATTGGAACCGTCCC\n",
    "NDB_801_i12_-2xStv_79rc,gtcggtgtccacgatcattgTGCGAACTGTCCGGCTTTCATGCGAACTGTCCGGCTTTCA\n",
    "NDB_817_i13_-2xStv_82rc,gaactcgttgactaagcattTTTGCACTGCCGTCCTTGACTTTGCACTGCCGTCCTTGAC\n",
    "NDB_725_i14_-2xStv_1rc,ctaccacggcatcgatttagGATCCGATTGGAACCGTCCCGATCCGATTGGAACCGTCCC\n",
    "NDB_807_i15_-2xStv_79rc,cggtatgctgcttcgtgaacTGCGAACTGTCCGGCTTTCATGCGAACTGTCCGGCTTTCA\n",
    "NDB_652_i16_-2xStv_82rc,taggcgctttagtaggtaccTTTGCACTGCCGTCCTTGACTTTGCACTGCCGTCCTTGAC\n",
    "NDB_710_i17_-2xStv_1rc,tcaactactaagccgcggtaGATCCGATTGGAACCGTCCCGATCCGATTGGAACCGTCCC\n",
    "NDB_690_i18_-2xStv_79rc,gaacggcctcataaatcggtTGCGAACTGTCCGGCTTTCATGCGAACTGTCCGGCTTTCA\n",
    "NDB_718_i19_-2xStv_82rc,cgtattgcaggatccttatgTTTGCACTGCCGTCCTTGACTTTGCACTGCCGTCCTTGAC\n",
    "NDB_971_i20_-2xStv_1rc,cttatcgcaaggtggccttaGATCCGATTGGAACCGTCCCGATCCGATTGGAACCGTCCC\n",
    "NDB_699_i21_-2xStv_79rc,atcgaccctttatagcgtgtTGCGAACTGTCCGGCTTTCATGCGAACTGTCCGGCTTTCA\n",
    "NDB_847_i22_-2xStv_82rc,ggtcacgtacgagacattggTTTGCACTGCCGTCCTTGACTTTGCACTGCCGTCCTTGAC\n",
    "NDB_743_i23_-2xStv_1rc,cgatcaaggtgtgccgcgtcGATCCGATTGGAACCGTCCCGATCCGATTGGAACCGTCCC\n",
    "NDB_936_i24_-2xStv_79rc,gtggtaccgtggaacgcaacTGCGAACTGTCCGGCTTTCATGCGAACTGTCCGGCTTTCA\n",
    "NDB_643_i25_-2xStv_82rc,cgaacgacctgttaccttgcTTTGCACTGCCGTCCTTGACTTTGCACTGCCGTCCTTGAC\n",
    "NDB_683_i26_-2xStv_1rc,accgcgtccgcagagcaaacGATCCGATTGGAACCGTCCCGATCCGATTGGAACCGTCCC\n",
    "NDB_456_i27_-2xStv_79rc,tgttcgaatccgccttcaacTGCGAACTGTCCGGCTTTCATGCGAACTGTCCGGCTTTCA\n",
    "NDB_760_i28_-2xStv_82rc,gttagatggccgctcgggttTTTGCACTGCCGTCCTTGACTTTGCACTGCCGTCCTTGAC\n",
    "NDB_815_i29_-2xStv_1rc,ttgcacgcagcgattgacgcGATCCGATTGGAACCGTCCCGATCCGATTGGAACCGTCCC\n",
    "NDB_738_i30_-2xStv_79rc,atcaggtttacgcccatgtcTGCGAACTGTCCGGCTTTCATGCGAACTGTCCGGCTTTCA\n",
    "NDB_400_i31_-2xStv_82rc,tagcgcctgaattagctataTTTGCACTGCCGTCCTTGACTTTGCACTGCCGTCCTTGAC\n",
    "NDB_965_i32_-2xStv_1rc,atccggcgcgcgagactaagGATCCGATTGGAACCGTCCCGATCCGATTGGAACCGTCCC\n",
    "NDB_750_i33_-2xStv_79rc,atgcgaaccgtctcaaagcaTGCGAACTGTCCGGCTTTCATGCGAACTGTCCGGCTTTCA\n",
    "NDB_790_i34_-2xStv_82rc,ggtgtcggttaaatattcctTTTGCACTGCCGTCCTTGACTTTGCACTGCCGTCCTTGAC\n",
    "NDB_464_i35_-2xStv_1rc,ttgggaacgccttcatatccGATCCGATTGGAACCGTCCCGATCCGATTGGAACCGTCCC\n",
    "NDB_825_i36_-2xStv_79rc,gcgaaggttagcctcgaagcTGCGAACTGTCCGGCTTTCATGCGAACTGTCCGGCTTTCA\n",
    "NDB_778_i37_-2xStv_82rc,aatgatgccttgcggttcttTTTGCACTGCCGTCCTTGACTTTGCACTGCCGTCCTTGAC\n",
    "NDB_431_i38_-2xStv_1rc,gttcaccggaatacttctgaGATCCGATTGGAACCGTCCCGATCCGATTGGAACCGTCCC\n",
    "NDB_768_i39_-2xStv_79rc,catatcggtcggctaacactTGCGAACTGTCCGGCTTTCATGCGAACTGTCCGGCTTTCA\n",
    "NDB_844_i40_-2xStv_82rc,cgtctggatcgtctatcaatTTTGCACTGCCGTCCTTGACTTTGCACTGCCGTCCTTGAC\"\"\".split('\\n'):\n",
    "    print(ln+',250nm,STD')"
   ]
  },
  {
   "cell_type": "code",
   "execution_count": null,
   "id": "c1ddae1a",
   "metadata": {},
   "outputs": [],
   "source": []
  },
  {
   "cell_type": "code",
   "execution_count": null,
   "id": "061fb6a2",
   "metadata": {},
   "outputs": [],
   "source": [
    "W1A07_bingRT1,/5Acryd/CGCAAACTGGTGCGGAAGGC,250nm,HPLC\n",
    "W1A09_bingRT2,/5Acryd/TTGTTGAGGCGGCGGAAGTC,250nm,HPLC\n",
    "\n",
    "\n",
    "W1A07_bingA1,CGCAAACTGGTGCGGAAGGC,100nm,STD\n",
    "W1A08_bingB1,TAATACGACTCACTATAGGGCCCTTTCGCGCTGCATCGAC,100nm,STD\n",
    "\n",
    "\n",
    "W1A09_bingA2,TTGTTGAGGCGGCGGAAGTC,100nm,STD\n",
    "W1A10_bingB2,TAATACGACTCACTATAGGGATTGCCGCATGGTTTCCG,100nm,STD"
   ]
  },
  {
   "cell_type": "code",
   "execution_count": 64,
   "id": "67159232",
   "metadata": {},
   "outputs": [],
   "source": [
    "lib_names,lib_seqs = lt.fastaread(r'C:\\Users\\Bogdan\\Dropbox\\Bing_viral_enhancers\\BR_BB_4_13_22.fasta')\n",
    "\n",
    "_,A = 'W1A09','TTGTTGAGGCGGCGGAAGTC'\n",
    "_,B = 'W1A10_primer_9','TAATACGACTCACTATAGGGATTGCCGCATGGTTTCCG'\n",
    "B = lt.seqrc(B[-20:])\n",
    "\n",
    "\n",
    "import numpy as np\n",
    "\n",
    "\n",
    "txts = [ln.replace('\\n','').split(',') for ln in open(r'C:\\Users\\Bogdan\\Dropbox\\ChrisGlass_Project\\readouts_primers\\NDB_brightness2.csv','r') if len(ln)>2]\n",
    "head = txts[0]\n",
    "txts = np.array(txts)[1:]\n",
    "ndbs_info = np.array([r for r1,r2,r3 in zip(txts[txts[:,1]=='750'],txts[txts[:,1]=='647'],txts[txts[:,1]=='561']) for r in [r1,r2,r3]])\n",
    "\n",
    "names,seqs = read_target_seqs(r'C:\\Users\\Bogdan\\Dropbox\\Bing_viral_enhancers\\SYFP2.csv')\n",
    "\n",
    "iNDB=38\n",
    "\n",
    "ndb_sqs = [ndbs_info[iNDB][-1],ndbs_info[iNDB+1][-1]]\n",
    "ndb_nms = [ndbs_info[iNDB][0],ndbs_info[iNDB+1][0]]\n",
    "\n",
    "seqs = [lt.up_down([A,ndb_sqs[isq%2],lt.seqrc(sq),ndb_sqs[isq%2],ndb_sqs[isq%2],B]) for isq,sq in enumerate(seqs)]\n",
    "names = [ndb_nms[inm%2]+'__'+nm for inm,nm in enumerate(names)]\n",
    "\n",
    "lib_names.extend(names)\n",
    "lib_seqs.extend(seqs)\n",
    "\n",
    "\n",
    "lt.fastawrite(r'C:\\Users\\Bogdan\\Dropbox\\Bing_viral_enhancers\\BR_BB_4_13_22_final.fasta',\n",
    "             lib_names,lib_seqs)"
   ]
  },
  {
   "cell_type": "code",
   "execution_count": 65,
   "id": "cfd97878",
   "metadata": {},
   "outputs": [],
   "source": [
    "lib_names,lib_seqs = lt.fastaread(r'C:\\Users\\Bogdan\\Dropbox\\Bing_viral_enhancers\\BR_BB_4_13_22_final.fasta')"
   ]
  },
  {
   "cell_type": "code",
   "execution_count": 69,
   "id": "77c51b9c",
   "metadata": {},
   "outputs": [
    {
     "data": {
      "text/plain": [
       "array([ 0,  1,  2,  3,  4,  5,  6,  7,  8,  9, 10, 11, 12, 13, 14, 15, 16,\n",
       "       17, 18, 19, 20, 21, 22, 23, 24, 25, 26, 27, 28, 29, 30, 31, 32, 33,\n",
       "       34, 35, 36, 37, 38, 39])"
      ]
     },
     "execution_count": 69,
     "metadata": {},
     "output_type": "execute_result"
    }
   ],
   "source": [
    "sqs_ndbs = [sq_.lower() for sq_ in ndbs_info[:,-1]]\n",
    "\n",
    "Ru,nctsu = np.unique([sq[20:40] for sq in lib_seqs],return_counts=True)\n",
    "np.unique([sqs_ndbs.index(R)for R in Ru])"
   ]
  },
  {
   "cell_type": "code",
   "execution_count": 75,
   "id": "a1767e19",
   "metadata": {},
   "outputs": [
    {
     "data": {
      "text/plain": [
       "array(['CGCAAACTGGTGCGGAAGGC', 'TTGTTGAGGCGGCGGAAGTC',\n",
       "       'cggaaaccatgcggcaatcc', 'gtcgatgcagcgcgaaaggg'], dtype='<U20')"
      ]
     },
     "execution_count": 75,
     "metadata": {},
     "output_type": "execute_result"
    }
   ],
   "source": [
    "used_primers = np.unique([sq_ for sq in lib_seqs for sq_ in [sq[:20],sq[-20:]]])\n",
    "used_primers"
   ]
  },
  {
   "cell_type": "code",
   "execution_count": 94,
   "id": "58223c9d",
   "metadata": {},
   "outputs": [
    {
     "data": {
      "application/vnd.jupyter.widget-view+json": {
       "model_id": "d4ad80ef6f3b44bb908f96571db912d2",
       "version_major": 2,
       "version_minor": 0
      },
      "text/plain": [
       "  0%|          | 0/22756 [00:00<?, ?it/s]"
      ]
     },
     "metadata": {},
     "output_type": "display_data"
    },
    {
     "data": {
      "text/plain": [
       "(array([0, 6]), array([45512, 45512], dtype=int64))"
      ]
     },
     "execution_count": 94,
     "metadata": {},
     "output_type": "execute_result"
    }
   ],
   "source": [
    "used_primers = np.unique([sq_ for sq in lib_seqs for sq_ in [sq[:20],sq[-20:]]])\n",
    "\n",
    "#used_primers = np.unique([sq_ for sq in lib_seqs for sq_ in [sq[20:40]]])\n",
    "\n",
    "#lib_seqs_ = [sq_ for sq in lib_seqs for sq_ in [sq,lt.seqrc(sq)]]\n",
    "from tqdm.notebook import tqdm\n",
    "dists = [[lt.simmilar(prm.upper(),sq.upper(),val=15)for prm in used_primers] for sq in tqdm(lib_seqs)]\n",
    "dists = np.array(dists)\n",
    "\n",
    "np.unique(dists,return_counts=True)"
   ]
  },
  {
   "cell_type": "code",
   "execution_count": 108,
   "id": "cca37087",
   "metadata": {},
   "outputs": [
    {
     "data": {
      "text/plain": [
       "(array(['[0 3]', '[1 2]'], dtype='<U5'), array([22734,    22], dtype=int64))"
      ]
     },
     "execution_count": 108,
     "metadata": {},
     "output_type": "execute_result"
    }
   ],
   "source": [
    "np.unique([str(np.where(d>0)[-1]) for d in dists],return_counts=True)"
   ]
  },
  {
   "cell_type": "code",
   "execution_count": 109,
   "id": "fd0a74d4",
   "metadata": {},
   "outputs": [
    {
     "data": {
      "text/plain": [
       "array([2])"
      ]
     },
     "execution_count": 109,
     "metadata": {},
     "output_type": "execute_result"
    }
   ],
   "source": [
    "np.unique(np.sum(dists>0,axis=-1))\n",
    "\n"
   ]
  },
  {
   "cell_type": "code",
   "execution_count": 126,
   "id": "a0905da3",
   "metadata": {},
   "outputs": [],
   "source": [
    "lib_names,lib_seqs = lt.fastaread(r'C:\\Users\\Bogdan\\Dropbox\\Bing_viral_enhancers\\BR_BB_4_13_22_final.fasta')\n",
    "names_gns,cts = np.unique([nm.split('__')[-1].split('_pb')[0] for nm in lib_names],return_counts=True)"
   ]
  },
  {
   "cell_type": "code",
   "execution_count": 127,
   "id": "39bc7833",
   "metadata": {},
   "outputs": [],
   "source": [
    "used_Rs = list(np.unique([sq_.upper() for sq in lib_seqs for sq_ in [sq[20:40]]]))\n",
    "dic_Rs = {gn:[]for gn in names_gns}\n",
    "for nm,sq in zip(lib_names,lib_seqs):\n",
    "    Rs_ = [R.upper() for R in [sq[20:40],sq[40+30:40+30+20],sq[40+30+20:40+30+20+20]]]\n",
    "    \n",
    "    gn = nm.split('__')[-1].split('_pb')[0]\n",
    "    dic_Rs[gn]+=[used_Rs.index(R) for R in Rs_]"
   ]
  },
  {
   "cell_type": "code",
   "execution_count": 130,
   "id": "7a27e30b",
   "metadata": {},
   "outputs": [
    {
     "data": {
      "text/plain": [
       "[['1-Mar', (array([ 5, 25, 26, 33]), array([69, 69, 69, 69], dtype=int64))],\n",
       " ['1700022I11Rik',\n",
       "  (array([ 4,  9, 15, 21]), array([69, 69, 69, 69], dtype=int64))],\n",
       " ['1810046K07Rik',\n",
       "  (array([11, 27, 32, 33]), array([69, 69, 69, 69], dtype=int64))],\n",
       " ['5031425F14Rik',\n",
       "  (array([ 8, 11, 21, 25]), array([69, 69, 69, 69], dtype=int64))],\n",
       " ['5730522E02Rik',\n",
       "  (array([ 3, 26, 35, 38]), array([48, 51, 51, 48], dtype=int64))],\n",
       " ['Acta2', (array([ 4,  8, 32, 38]), array([69, 69, 69, 69], dtype=int64))],\n",
       " ['Adam2', (array([ 5, 13, 16, 33]), array([69, 69, 69, 69], dtype=int64))],\n",
       " ['Adamts2', (array([21, 32, 38, 39]), array([69, 69, 69, 69], dtype=int64))],\n",
       " ['Adamts4', (array([ 2, 16, 27, 31]), array([69, 69, 69, 69], dtype=int64))],\n",
       " ['Adra1b', (array([14, 15, 25, 38]), array([69, 69, 69, 69], dtype=int64))],\n",
       " ['Alk', (array([ 3, 12, 33, 39]), array([69, 69, 69, 69], dtype=int64))],\n",
       " ['Ankfn1', (array([ 2,  9, 11, 21]), array([69, 69, 69, 69], dtype=int64))],\n",
       " ['Ano4', (array([ 5, 11, 25, 38]), array([69, 69, 69, 69], dtype=int64))],\n",
       " ['Aqp4', (array([ 2, 14, 21, 32]), array([69, 69, 69, 69], dtype=int64))],\n",
       " ['Asic4', (array([14, 32, 33, 39]), array([69, 69, 69, 69], dtype=int64))],\n",
       " ['B4galnt2', (array([ 3,  5, 14, 26]), array([69, 69, 69, 69], dtype=int64))],\n",
       " ['B4galnt3', (array([ 3, 11, 15, 26]), array([69, 69, 69, 69], dtype=int64))],\n",
       " ['Barx2', (array([ 2,  3, 11, 31]), array([69, 69, 69, 69], dtype=int64))],\n",
       " ['Bcl11b', (array([ 2, 16, 26, 35]), array([69, 69, 69, 69], dtype=int64))],\n",
       " ['Bdnf', (array([ 5,  9, 15, 32]), array([69, 69, 69, 69], dtype=int64))],\n",
       " ['Bgn', (array([ 9, 27, 32, 39]), array([69, 69, 69, 69], dtype=int64))],\n",
       " ['Blnk', (array([ 4,  5, 11, 13]), array([69, 69, 69, 69], dtype=int64))],\n",
       " ['Bmpr1b', (array([11, 12, 25, 27]), array([69, 69, 69, 69], dtype=int64))],\n",
       " ['Brinp3', (array([ 5, 12, 26, 32]), array([69, 69, 69, 69], dtype=int64))],\n",
       " ['C1ql3', (array([21, 25, 26, 35]), array([69, 69, 69, 69], dtype=int64))],\n",
       " ['C1qtnf7', (array([13, 15, 35, 39]), array([69, 69, 69, 69], dtype=int64))],\n",
       " ['Cacng5', (array([11, 15, 31, 32]), array([69, 69, 69, 69], dtype=int64))],\n",
       " ['Calb1', (array([17]), array([144], dtype=int64))],\n",
       " ['Calb2', (array([ 3,  5, 13, 32]), array([69, 69, 69, 69], dtype=int64))],\n",
       " ['Camk2d', (array([ 2,  5, 35, 39]), array([69, 69, 69, 69], dtype=int64))],\n",
       " ['Car3', (array([ 4, 15, 26, 32]), array([69, 69, 69, 69], dtype=int64))],\n",
       " ['Cbln2', (array([ 4, 12, 21, 26]), array([69, 69, 69, 69], dtype=int64))],\n",
       " ['Cbln4', (array([ 2, 11, 13, 14]), array([69, 69, 69, 69], dtype=int64))],\n",
       " ['Ccbe1', (array([ 2,  8,  9, 25]), array([69, 69, 69, 69], dtype=int64))],\n",
       " ['Ccdc162', (array([ 3,  4,  9, 14]), array([69, 69, 69, 69], dtype=int64))],\n",
       " ['Ccdc3', (array([ 9, 14, 27, 33]), array([69, 69, 69, 69], dtype=int64))],\n",
       " ['Ccdc80', (array([12, 14, 26, 31]), array([69, 69, 69, 69], dtype=int64))],\n",
       " ['Ccnb1', (array([ 8, 33, 35, 38]), array([69, 69, 69, 69], dtype=int64))],\n",
       " ['Cd14', (array([ 4, 15, 27, 38]), array([69, 69, 69, 69], dtype=int64))],\n",
       " ['Cd24a', (array([ 5, 13, 26, 31]), array([69, 69, 69, 69], dtype=int64))],\n",
       " ['Cd52', (array([19]), array([120], dtype=int64))],\n",
       " ['Cdca7', (array([ 2, 32, 33, 38]), array([69, 69, 69, 69], dtype=int64))],\n",
       " ['Cdcp1', (array([ 4,  5, 38, 39]), array([69, 69, 69, 69], dtype=int64))],\n",
       " ['Cdh12', (array([ 2,  4,  5, 14]), array([69, 69, 69, 69], dtype=int64))],\n",
       " ['Cdh13', (array([ 5, 16, 21, 27]), array([69, 69, 69, 69], dtype=int64))],\n",
       " ['Cdh20', (array([ 2, 13, 25, 35]), array([69, 69, 69, 69], dtype=int64))],\n",
       " ['Cdh9', (array([ 2, 13, 21, 26]), array([69, 69, 69, 69], dtype=int64))],\n",
       " ['Ceacam9', (array([12, 25, 32, 33]), array([69, 69, 69, 69], dtype=int64))],\n",
       " ['Cemip', (array([ 2, 11, 26, 32]), array([69, 69, 69, 69], dtype=int64))],\n",
       " ['Chat', (array([ 3,  9, 13, 15]), array([69, 69, 69, 69], dtype=int64))],\n",
       " ['Chn2', (array([11, 12, 13, 15]), array([69, 69, 69, 69], dtype=int64))],\n",
       " ['Chodl', (array([ 3, 14, 25, 33]), array([69, 69, 69, 69], dtype=int64))],\n",
       " ['Chrm2', (array([ 8, 14, 21, 35]), array([69, 69, 69, 69], dtype=int64))],\n",
       " ['Chrna2', (array([ 3, 11, 33, 35]), array([69, 69, 69, 69], dtype=int64))],\n",
       " ['Cldn5', (array([ 9, 12, 16, 27]), array([57, 57, 60, 60], dtype=int64))],\n",
       " ['Clrn1', (array([ 8, 12, 25, 31]), array([69, 69, 69, 69], dtype=int64))],\n",
       " ['Cnr1', (array([28]), array([144], dtype=int64))],\n",
       " ['Cntnap5b', (array([ 3,  5, 12, 31]), array([69, 69, 69, 69], dtype=int64))],\n",
       " ['Cobll1', (array([11, 13, 38, 39]), array([69, 69, 69, 69], dtype=int64))],\n",
       " ['Col14a1', (array([ 4, 11, 25, 39]), array([69, 69, 69, 69], dtype=int64))],\n",
       " ['Col15a1', (array([ 4, 11, 16, 33]), array([69, 69, 69, 69], dtype=int64))],\n",
       " ['Col23a1', (array([ 5, 11, 14, 15]), array([69, 69, 69, 69], dtype=int64))],\n",
       " ['Col24a1', (array([25, 27, 35, 39]), array([69, 69, 69, 69], dtype=int64))],\n",
       " ['Col25a1', (array([ 2,  4, 31, 32]), array([69, 69, 69, 69], dtype=int64))],\n",
       " ['Corin', (array([11, 26, 33, 38]), array([69, 69, 69, 69], dtype=int64))],\n",
       " ['Cplx3', (array([ 4, 12, 27, 39]), array([69, 69, 69, 69], dtype=int64))],\n",
       " ['Crhr2', (array([ 3,  8, 26, 33]), array([69, 69, 69, 69], dtype=int64))],\n",
       " ['Crispld2', (array([ 3,  4, 16, 35]), array([69, 69, 69, 69], dtype=int64))],\n",
       " ['Cspg4', (array([ 4, 16, 27, 32]), array([69, 69, 69, 69], dtype=int64))],\n",
       " ['Ctss', (array([13, 25, 31, 33]), array([69, 69, 69, 69], dtype=int64))],\n",
       " ['Cux2', (array([ 3,  9, 11, 12]), array([69, 69, 69, 69], dtype=int64))],\n",
       " ['Cxcl14', (array([ 8, 14, 25, 26]), array([69, 69, 69, 69], dtype=int64))],\n",
       " ['Daam2', (array([ 4,  5, 21, 32]), array([69, 69, 69, 69], dtype=int64))],\n",
       " ['Dmkn', (array([16, 25, 33, 39]), array([39, 39, 39, 39], dtype=int64))],\n",
       " ['Dnase1l3', (array([ 5, 13, 25, 39]), array([69, 69, 69, 69], dtype=int64))],\n",
       " ['Dscaml1', (array([ 4,  9, 13, 31]), array([69, 69, 69, 69], dtype=int64))],\n",
       " ['Egfem1', (array([12, 16, 21, 38]), array([69, 69, 69, 69], dtype=int64))],\n",
       " ['Egfr', (array([ 9, 21, 26, 32]), array([69, 69, 69, 69], dtype=int64))],\n",
       " ['Egln3', (array([21, 26, 27, 39]), array([69, 69, 69, 69], dtype=int64))],\n",
       " ['Egr2', (array([ 9, 11, 33, 39]), array([69, 69, 69, 69], dtype=int64))],\n",
       " ['Elfn1', (array([ 2, 15, 25, 39]), array([69, 69, 69, 69], dtype=int64))],\n",
       " ['Enpp6', (array([ 8, 16, 27, 38]), array([69, 69, 69, 69], dtype=int64))],\n",
       " ['Epha7', (array([ 3, 16, 32, 33]), array([69, 69, 69, 69], dtype=int64))],\n",
       " ['Fam19a2', (array([ 4,  5,  9, 26]), array([69, 69, 69, 69], dtype=int64))],\n",
       " ['Fam84b', (array([14, 21, 33, 38]), array([69, 69, 69, 69], dtype=int64))],\n",
       " ['Fbxl7', (array([ 2,  9, 12, 31]), array([69, 69, 69, 69], dtype=int64))],\n",
       " ['Fezf2', (array([ 4, 14, 25, 27]), array([69, 69, 69, 69], dtype=int64))],\n",
       " ['Flrt3', (array([ 2,  5, 21, 31]), array([69, 69, 69, 69], dtype=int64))],\n",
       " ['Flt1', (array([11, 14, 27, 39]), array([69, 69, 69, 69], dtype=int64))],\n",
       " ['Fndc7', (array([ 2,  8, 31, 38]), array([69, 69, 69, 69], dtype=int64))],\n",
       " ['Fosb', (array([26, 27, 32, 38]), array([69, 69, 69, 69], dtype=int64))],\n",
       " ['Foxp2', (array([ 9, 14, 15, 31]), array([69, 69, 69, 69], dtype=int64))],\n",
       " ['Frem2', (array([ 8, 11, 26, 35]), array([69, 69, 69, 69], dtype=int64))],\n",
       " ['Fst', (array([12, 13, 31, 32]), array([69, 69, 69, 69], dtype=int64))],\n",
       " ['Gad1', (array([20]), array([144], dtype=int64))],\n",
       " ['Gad2', (array([37]), array([144], dtype=int64))],\n",
       " ['Gfap', (array([ 2,  5, 25, 27]), array([69, 69, 69, 69], dtype=int64))],\n",
       " ['Glra1', (array([ 4,  9, 25, 33]), array([69, 69, 69, 69], dtype=int64))],\n",
       " ['Gpc6', (array([ 2,  8, 11, 16]), array([69, 69, 69, 69], dtype=int64))],\n",
       " ['Grik1', (array([15, 16, 26, 27]), array([69, 69, 69, 69], dtype=int64))],\n",
       " ['Grin3a', (array([ 2,  8, 32, 35]), array([69, 69, 69, 69], dtype=int64))],\n",
       " ['Grm1', (array([ 3, 27, 31, 38]), array([69, 69, 69, 69], dtype=int64))],\n",
       " ['Grm8', (array([ 5,  8, 12, 16]), array([69, 69, 69, 69], dtype=int64))],\n",
       " ['Hpse', (array([ 9, 25, 31, 38]), array([69, 69, 69, 69], dtype=int64))],\n",
       " ['Hs3st5', (array([ 3, 15, 33, 38]), array([69, 69, 69, 69], dtype=int64))],\n",
       " ['Igf2', (array([ 2, 15, 27, 35]), array([69, 69, 69, 69], dtype=int64))],\n",
       " ['Igfbp4', (array([21, 25, 27, 31]), array([69, 69, 69, 69], dtype=int64))],\n",
       " ['Igfbp5', (array([2, 3, 5, 9]), array([69, 69, 69, 69], dtype=int64))],\n",
       " ['Igfbp6', (array([29]), array([144], dtype=int64))],\n",
       " ['Ikzf2', (array([12, 14, 27, 35]), array([69, 69, 69, 69], dtype=int64))],\n",
       " ['Il1rapl2', (array([ 9, 11, 14, 32]), array([69, 69, 69, 69], dtype=int64))],\n",
       " ['Il4ra', (array([ 9, 11, 13, 26]), array([69, 69, 69, 69], dtype=int64))],\n",
       " ['Inpp4b', (array([ 5, 14, 35, 38]), array([69, 69, 69, 69], dtype=int64))],\n",
       " ['Iqgap2', (array([11, 12, 21, 31]), array([69, 69, 69, 69], dtype=int64))],\n",
       " ['Itgb8', (array([ 2, 21, 33, 39]), array([69, 69, 69, 69], dtype=int64))],\n",
       " ['Kcng1', (array([ 3, 21, 25, 38]), array([69, 69, 69, 69], dtype=int64))],\n",
       " ['Kcnj8', (array([ 2, 13, 27, 39]), array([69, 69, 69, 69], dtype=int64))],\n",
       " ['L3mbtl4', (array([ 4,  9, 16, 39]), array([69, 69, 69, 69], dtype=int64))],\n",
       " ['Lama3', (array([ 2, 12, 25, 38]), array([69, 69, 69, 69], dtype=int64))],\n",
       " ['Lamp5', (array([36]), array([144], dtype=int64))],\n",
       " ['Lhx6', (array([ 3, 12, 16, 25]), array([69, 69, 69, 69], dtype=int64))],\n",
       " ['Lmo1', (array([ 3, 14, 15, 21]), array([57, 54, 57, 57], dtype=int64))],\n",
       " ['Lsp1', (array([ 4,  8, 26, 27]), array([69, 69, 69, 69], dtype=int64))],\n",
       " ['Ltf', (array([ 2,  4, 12, 13]), array([69, 69, 69, 69], dtype=int64))],\n",
       " ['Luzp2', (array([15, 16, 21, 39]), array([69, 69, 69, 69], dtype=int64))],\n",
       " ['Lypd1', (array([12, 14, 16, 33]), array([69, 69, 69, 69], dtype=int64))],\n",
       " ['Lyzl4', (array([ 2,  3, 16, 38]), array([54, 57, 54, 54], dtype=int64))],\n",
       " ['Marcksl1', (array([25, 26, 31, 39]), array([57, 57, 57, 57], dtype=int64))],\n",
       " ['Meis2', (array([ 2,  3,  8, 27]), array([66, 66, 69, 66], dtype=int64))],\n",
       " ['Moxd1', (array([ 3,  4, 15, 31]), array([69, 69, 69, 69], dtype=int64))],\n",
       " ['Mrc1', (array([15, 27, 31, 33]), array([69, 69, 69, 69], dtype=int64))],\n",
       " ['Mrgprx2', (array([16, 27, 33, 35]), array([69, 69, 69, 69], dtype=int64))],\n",
       " ['Muc20', (array([11, 13, 21, 32]), array([69, 69, 69, 69], dtype=int64))],\n",
       " ['Mup5', (array([0]), array([132], dtype=int64))],\n",
       " ['Myh14', (array([ 4, 13, 25, 38]), array([69, 69, 69, 69], dtype=int64))],\n",
       " ['Ndst4', (array([ 3,  9, 21, 31]), array([69, 69, 69, 69], dtype=int64))],\n",
       " ['Nhs', (array([ 4, 12, 25, 35]), array([69, 69, 69, 69], dtype=int64))],\n",
       " ['Nkain3', (array([11, 14, 25, 35]), array([69, 69, 69, 69], dtype=int64))],\n",
       " ['Nnmt', (array([ 2,  3, 15, 32]), array([57, 57, 57, 57], dtype=int64))],\n",
       " ['Nos1', (array([12, 16, 32, 39]), array([69, 69, 69, 69], dtype=int64))],\n",
       " ['Npas1', (array([14, 16, 25, 32]), array([69, 69, 69, 69], dtype=int64))],\n",
       " ['Npnt', (array([ 2, 14, 38, 39]), array([69, 69, 69, 69], dtype=int64))],\n",
       " ['Npsr1', (array([ 8, 14, 31, 39]), array([69, 69, 69, 69], dtype=int64))],\n",
       " ['Npy2r', (array([ 3, 12, 13, 26]), array([69, 69, 69, 69], dtype=int64))],\n",
       " ['Nr2f2', (array([ 5,  9, 11, 31]), array([69, 69, 69, 69], dtype=int64))],\n",
       " ['Nr4a1', (array([ 4,  8, 15, 16]), array([69, 69, 69, 69], dtype=int64))],\n",
       " ['Nr4a2', (array([ 5,  8, 21, 38]), array([69, 69, 69, 69], dtype=int64))],\n",
       " ['Ntng2', (array([ 3, 14, 16, 39]), array([60, 60, 60, 57], dtype=int64))],\n",
       " ['Nxph1', (array([11, 14, 21, 26]), array([69, 69, 69, 69], dtype=int64))],\n",
       " ['Nxph2', (array([ 4, 16, 26, 38]), array([69, 69, 69, 69], dtype=int64))],\n",
       " ['Nxph4', (array([ 5, 12, 13, 14]), array([66, 66, 66, 63], dtype=int64))],\n",
       " ['Olah', (array([ 3, 13, 14, 31]), array([69, 69, 69, 69], dtype=int64))],\n",
       " ['Olfm3', (array([ 2,  4,  8, 33]), array([69, 69, 69, 69], dtype=int64))],\n",
       " ['Opalin', (array([ 5, 15, 25, 35]), array([69, 69, 69, 69], dtype=int64))],\n",
       " ['Oprk1', (array([31, 32, 35, 38]), array([69, 69, 69, 69], dtype=int64))],\n",
       " ['Osr1', (array([ 4, 32, 33, 35]), array([69, 69, 69, 69], dtype=int64))],\n",
       " ['Otof', (array([ 8, 15, 27, 32]), array([69, 69, 69, 69], dtype=int64))],\n",
       " ['Parm1', (array([13, 14, 26, 32]), array([69, 69, 69, 69], dtype=int64))],\n",
       " ['Pcdh8', (array([ 5,  9, 16, 38]), array([69, 69, 69, 69], dtype=int64))],\n",
       " ['Pde11a', (array([13, 16, 25, 26]), array([69, 69, 69, 69], dtype=int64))],\n",
       " ['Pdgfc', (array([ 8,  9, 16, 21]), array([69, 69, 69, 69], dtype=int64))],\n",
       " ['Pdgfra', (array([ 3,  4, 11, 32]), array([69, 69, 69, 69], dtype=int64))],\n",
       " ['Pdlim5', (array([ 3,  8, 15, 35]), array([69, 69, 69, 69], dtype=int64))],\n",
       " ['Penk', (array([30]), array([144], dtype=int64))],\n",
       " ['Phactr2', (array([ 5, 14, 31, 32]), array([69, 69, 69, 69], dtype=int64))],\n",
       " ['Plch1', (array([12, 15, 21, 32]), array([69, 69, 69, 69], dtype=int64))],\n",
       " ['Plcxd3', (array([ 2, 11, 27, 38]), array([69, 69, 69, 69], dtype=int64))],\n",
       " ['Pld5', (array([ 5,  9, 12, 21]), array([69, 69, 69, 69], dtype=int64))],\n",
       " ['Plekhg3', (array([ 4,  9, 12, 32]), array([69, 69, 69, 69], dtype=int64))],\n",
       " ['Pou3f1', (array([ 2,  3,  4, 26]), array([69, 69, 69, 69], dtype=int64))],\n",
       " ['Pou3f3', (array([13, 16, 21, 35]), array([69, 69, 69, 69], dtype=int64))],\n",
       " ['Pou6f2', (array([ 5, 13, 27, 35]), array([69, 69, 69, 69], dtype=int64))],\n",
       " ['Prdm8', (array([ 8, 12, 21, 27]), array([69, 69, 69, 69], dtype=int64))],\n",
       " ['Prok2', (array([ 4, 31, 33, 38]), array([51, 51, 51, 51], dtype=int64))],\n",
       " ['Prokr2', (array([ 4, 13, 14, 15]), array([69, 69, 69, 69], dtype=int64))],\n",
       " ['Prox1', (array([ 9, 26, 38, 39]), array([69, 69, 69, 69], dtype=int64))],\n",
       " ['Prr16', (array([12, 13, 35, 38]), array([69, 69, 69, 69], dtype=int64))],\n",
       " ['Prss12', (array([ 8, 11, 27, 31]), array([69, 69, 69, 69], dtype=int64))],\n",
       " ['Prss23', (array([15, 26, 33, 35]), array([69, 69, 69, 69], dtype=int64))],\n",
       " ['Ptger3', (array([ 5, 15, 21, 26]), array([69, 69, 69, 69], dtype=int64))],\n",
       " ['Ptprk', (array([ 8,  9, 15, 39]), array([69, 69, 69, 69], dtype=int64))],\n",
       " ['Ptprm', (array([ 3, 12, 14, 32]), array([69, 69, 69, 69], dtype=int64))],\n",
       " ['Ptprt', (array([11, 15, 35, 38]), array([69, 69, 69, 69], dtype=int64))],\n",
       " ['Ptpru', (array([ 8,  9, 12, 38]), array([69, 69, 69, 69], dtype=int64))],\n",
       " ['Pvalb', (array([23]), array([144], dtype=int64))],\n",
       " ['Pxdc1', (array([ 9, 13, 14, 21]), array([69, 69, 69, 69], dtype=int64))],\n",
       " ['Rab3b', (array([18]), array([144], dtype=int64))],\n",
       " ['Ramp1', (array([ 4, 14, 21, 31]), array([69, 69, 69, 69], dtype=int64))],\n",
       " ['Reln', (array([ 3,  9, 35, 39]), array([69, 69, 69, 69], dtype=int64))],\n",
       " ['Rerg', (array([ 3,  4, 27, 33]), array([69, 69, 69, 69], dtype=int64))],\n",
       " ['Rfx3', (array([ 8, 16, 26, 32]), array([69, 69, 69, 69], dtype=int64))],\n",
       " ['Rgs5', (array([13, 15, 21, 31]), array([69, 69, 69, 69], dtype=int64))],\n",
       " ['Rgs6', (array([ 9, 13, 33, 38]), array([69, 69, 69, 69], dtype=int64))],\n",
       " ['Rnf152', (array([12, 14, 25, 39]), array([69, 69, 69, 69], dtype=int64))],\n",
       " ['Ror1', (array([21, 31, 35, 39]), array([69, 69, 69, 69], dtype=int64))],\n",
       " ['Rorb', (array([ 5, 12, 27, 38]), array([69, 69, 69, 69], dtype=int64))],\n",
       " ['Rprml', (array([22]), array([114], dtype=int64))],\n",
       " ['Rspo1', (array([ 8, 15, 26, 38]), array([69, 69, 69, 69], dtype=int64))],\n",
       " ['Rxfp1', (array([ 8, 12, 26, 39]), array([69, 69, 69, 69], dtype=int64))],\n",
       " ['Rxfp2', (array([ 4, 11, 27, 35]), array([69, 69, 69, 69], dtype=int64))],\n",
       " ['SYFP2', (array([ 7, 10]), array([33, 33], dtype=int64))],\n",
       " ['Satb2', (array([ 4,  8, 31, 35]), array([69, 69, 69, 69], dtype=int64))],\n",
       " ['Scgn', (array([ 4, 11, 12, 14]), array([69, 69, 69, 69], dtype=int64))],\n",
       " ['Sema3e', (array([ 3,  5, 11, 21]), array([69, 69, 69, 69], dtype=int64))],\n",
       " ['Sema5a', (array([13, 15, 25, 27]), array([69, 69, 69, 69], dtype=int64))],\n",
       " ['Serpinf1', (array([12, 15, 38, 39]), array([69, 69, 69, 69], dtype=int64))],\n",
       " ['Sertm1', (array([ 8, 11, 15, 33]), array([69, 69, 69, 69], dtype=int64))],\n",
       " ['Sgcd', (array([15, 16, 31, 35]), array([69, 69, 69, 69], dtype=int64))],\n",
       " ['Shisa9', (array([16, 26, 31, 33]), array([69, 69, 69, 69], dtype=int64))],\n",
       " ['Slc17a6', (array([ 3,  8, 11, 38]), array([69, 69, 69, 69], dtype=int64))],\n",
       " ['Slc17a7', (array([1]), array([144], dtype=int64))],\n",
       " ['Slc17a8', (array([ 3, 25, 32, 39]), array([69, 69, 69, 69], dtype=int64))],\n",
       " ['Slc25a13', (array([ 2, 26, 27, 33]), array([69, 69, 69, 69], dtype=int64))],\n",
       " ['Slc30a3', (array([ 5, 16, 25, 31]), array([69, 69, 69, 69], dtype=int64))],\n",
       " ['Slc32a1', (array([ 2,  3, 12, 21]), array([69, 69, 69, 69], dtype=int64))],\n",
       " ['Slc44a5', (array([ 3, 11, 16, 27]), array([69, 69, 69, 69], dtype=int64))],\n",
       " ['Slco5a1', (array([ 8, 13, 14, 16]), array([69, 69, 69, 69], dtype=int64))],\n",
       " ['Sncg', (array([ 4, 11, 26, 31]), array([48, 45, 48, 45], dtype=int64))],\n",
       " ['Sox10', (array([ 9, 12, 33, 35]), array([69, 69, 69, 69], dtype=int64))],\n",
       " ['Sox6', (array([11, 12, 35, 39]), array([69, 69, 69, 69], dtype=int64))],\n",
       " ['Sp8', (array([ 9, 12, 15, 26]), array([69, 69, 69, 69], dtype=int64))],\n",
       " ['Spon1', (array([ 9, 25, 32, 35]), array([69, 69, 69, 69], dtype=int64))],\n",
       " ['Sst', (array([34]), array([93], dtype=int64))],\n",
       " ['St6galnac5',\n",
       "  (array([ 5,  8, 14, 33]), array([69, 69, 69, 69], dtype=int64))],\n",
       " ['Sulf1', (array([ 8, 13, 25, 32]), array([69, 69, 69, 69], dtype=int64))],\n",
       " ['Sulf2', (array([13, 14, 27, 38]), array([69, 69, 69, 69], dtype=int64))],\n",
       " ['Syndig1', (array([ 2,  5, 11, 12]), array([69, 69, 69, 69], dtype=int64))],\n",
       " ['Syt10', (array([ 3,  4, 13, 21]), array([69, 69, 69, 69], dtype=int64))],\n",
       " ['Syt6', (array([ 8, 12, 13, 33]), array([69, 69, 69, 69], dtype=int64))],\n",
       " ['Tac2', (array([24]), array([144], dtype=int64))],\n",
       " ['Tbc1d4', (array([13, 16, 31, 39]), array([69, 69, 69, 69], dtype=int64))],\n",
       " ['Tcap', (array([ 2,  9, 13, 32]), array([42, 42, 42, 42], dtype=int64))],\n",
       " ['Teddm3', (array([ 8, 31, 32, 33]), array([69, 69, 69, 69], dtype=int64))],\n",
       " ['Tenm3', (array([13, 21, 27, 33]), array([69, 69, 69, 69], dtype=int64))],\n",
       " ['Th', (array([13, 26, 33, 39]), array([69, 69, 69, 69], dtype=int64))],\n",
       " ['Thbs2', (array([ 5, 15, 27, 39]), array([69, 69, 69, 69], dtype=int64))],\n",
       " ['Thsd7a', (array([ 5, 31, 33, 39]), array([69, 69, 69, 69], dtype=int64))],\n",
       " ['Timp3', (array([ 3,  5,  8, 25]), array([69, 69, 69, 69], dtype=int64))],\n",
       " ['Tmem163', (array([11, 16, 32, 35]), array([69, 69, 69, 69], dtype=int64))],\n",
       " ['Tmtc2', (array([15, 16, 32, 38]), array([69, 69, 69, 69], dtype=int64))],\n",
       " ['Tnfaip6', (array([ 2,  4, 35, 38]), array([69, 69, 69, 69], dtype=int64))],\n",
       " ['Tox', (array([ 5, 16, 26, 39]), array([69, 69, 69, 69], dtype=int64))],\n",
       " ['Trp53i11', (array([ 5, 21, 33, 35]), array([69, 69, 69, 69], dtype=int64))],\n",
       " ['Trpc4', (array([ 3, 27, 32, 35]), array([69, 69, 69, 69], dtype=int64))],\n",
       " ['Trpc6', (array([ 3,  8, 13, 39]), array([69, 69, 69, 69], dtype=int64))],\n",
       " ['Tshz2', (array([ 3, 26, 31, 32]), array([69, 69, 69, 69], dtype=int64))],\n",
       " ['Tunar', (array([ 9, 11, 16, 25]), array([69, 69, 69, 69], dtype=int64))],\n",
       " ['Ubash3b', (array([ 2, 15, 26, 31]), array([69, 69, 69, 69], dtype=int64))],\n",
       " ['Unc13c', (array([ 3,  9, 25, 27]), array([69, 69, 69, 69], dtype=int64))],\n",
       " ['Unc5b', (array([ 2, 16, 21, 25]), array([69, 69, 69, 69], dtype=int64))],\n",
       " ['Unc5d', (array([ 5,  8, 32, 39]), array([69, 69, 69, 69], dtype=int64))],\n",
       " ['Ust', (array([ 5,  8,  9, 27]), array([69, 69, 69, 69], dtype=int64))],\n",
       " ['Vip', (array([6]), array([144], dtype=int64))],\n",
       " ['Vipr2', (array([ 9, 21, 27, 38]), array([69, 69, 69, 69], dtype=int64))],\n",
       " ['Vtn', (array([ 2,  5, 13, 15]), array([69, 69, 69, 69], dtype=int64))],\n",
       " ['Vwc2', (array([ 3,  8, 16, 31]), array([69, 69, 69, 69], dtype=int64))],\n",
       " ['Wipf3', (array([26, 27, 31, 35]), array([69, 69, 69, 69], dtype=int64))],\n",
       " ['Wnt7b', (array([ 2, 31, 33, 35]), array([69, 69, 69, 69], dtype=int64))],\n",
       " ['Zfp804b', (array([ 4,  8, 21, 39]), array([69, 69, 69, 69], dtype=int64))]]"
      ]
     },
     "execution_count": 130,
     "metadata": {},
     "output_type": "execute_result"
    }
   ],
   "source": [
    "[[gn,np.unique(dic_Rs[gn],return_counts=True)]for gn in dic_Rs]"
   ]
  },
  {
   "cell_type": "code",
   "execution_count": 135,
   "id": "66ec726d",
   "metadata": {},
   "outputs": [
    {
     "data": {
      "text/plain": [
       "[['1-Mar', (array([ 5, 25, 26, 33]), array([69, 69, 69, 69], dtype=int64))],\n",
       " ['1700022I11Rik',\n",
       "  (array([ 4,  9, 15, 21]), array([69, 69, 69, 69], dtype=int64))],\n",
       " ['1810046K07Rik',\n",
       "  (array([11, 27, 32, 33]), array([69, 69, 69, 69], dtype=int64))],\n",
       " ['5031425F14Rik',\n",
       "  (array([ 8, 11, 21, 25]), array([69, 69, 69, 69], dtype=int64))],\n",
       " ['5730522E02Rik',\n",
       "  (array([ 3, 26, 35, 38]), array([48, 51, 51, 48], dtype=int64))],\n",
       " ['Acta2', (array([ 4,  8, 32, 38]), array([69, 69, 69, 69], dtype=int64))],\n",
       " ['Adam2', (array([ 5, 13, 16, 33]), array([69, 69, 69, 69], dtype=int64))],\n",
       " ['Adamts2', (array([21, 32, 38, 39]), array([69, 69, 69, 69], dtype=int64))],\n",
       " ['Adamts4', (array([ 2, 16, 27, 31]), array([69, 69, 69, 69], dtype=int64))],\n",
       " ['Adra1b', (array([14, 15, 25, 38]), array([69, 69, 69, 69], dtype=int64))],\n",
       " ['Alk', (array([ 3, 12, 33, 39]), array([69, 69, 69, 69], dtype=int64))],\n",
       " ['Ankfn1', (array([ 2,  9, 11, 21]), array([69, 69, 69, 69], dtype=int64))],\n",
       " ['Ano4', (array([ 5, 11, 25, 38]), array([69, 69, 69, 69], dtype=int64))],\n",
       " ['Aqp4', (array([ 2, 14, 21, 32]), array([69, 69, 69, 69], dtype=int64))],\n",
       " ['Asic4', (array([14, 32, 33, 39]), array([69, 69, 69, 69], dtype=int64))],\n",
       " ['B4galnt2', (array([ 3,  5, 14, 26]), array([69, 69, 69, 69], dtype=int64))],\n",
       " ['B4galnt3', (array([ 3, 11, 15, 26]), array([69, 69, 69, 69], dtype=int64))],\n",
       " ['Barx2', (array([ 2,  3, 11, 31]), array([69, 69, 69, 69], dtype=int64))],\n",
       " ['Bcl11b', (array([ 2, 16, 26, 35]), array([69, 69, 69, 69], dtype=int64))],\n",
       " ['Bdnf', (array([ 5,  9, 15, 32]), array([69, 69, 69, 69], dtype=int64))],\n",
       " ['Bgn', (array([ 9, 27, 32, 39]), array([69, 69, 69, 69], dtype=int64))],\n",
       " ['Blnk', (array([ 4,  5, 11, 13]), array([69, 69, 69, 69], dtype=int64))],\n",
       " ['Bmpr1b', (array([11, 12, 25, 27]), array([69, 69, 69, 69], dtype=int64))],\n",
       " ['Brinp3', (array([ 5, 12, 26, 32]), array([69, 69, 69, 69], dtype=int64))],\n",
       " ['C1ql3', (array([21, 25, 26, 35]), array([69, 69, 69, 69], dtype=int64))],\n",
       " ['C1qtnf7', (array([13, 15, 35, 39]), array([69, 69, 69, 69], dtype=int64))],\n",
       " ['Cacng5', (array([11, 15, 31, 32]), array([69, 69, 69, 69], dtype=int64))],\n",
       " ['Calb2', (array([ 3,  5, 13, 32]), array([69, 69, 69, 69], dtype=int64))],\n",
       " ['Camk2d', (array([ 2,  5, 35, 39]), array([69, 69, 69, 69], dtype=int64))],\n",
       " ['Car3', (array([ 4, 15, 26, 32]), array([69, 69, 69, 69], dtype=int64))],\n",
       " ['Cbln2', (array([ 4, 12, 21, 26]), array([69, 69, 69, 69], dtype=int64))],\n",
       " ['Cbln4', (array([ 2, 11, 13, 14]), array([69, 69, 69, 69], dtype=int64))],\n",
       " ['Ccbe1', (array([ 2,  8,  9, 25]), array([69, 69, 69, 69], dtype=int64))],\n",
       " ['Ccdc162', (array([ 3,  4,  9, 14]), array([69, 69, 69, 69], dtype=int64))],\n",
       " ['Ccdc3', (array([ 9, 14, 27, 33]), array([69, 69, 69, 69], dtype=int64))],\n",
       " ['Ccdc80', (array([12, 14, 26, 31]), array([69, 69, 69, 69], dtype=int64))],\n",
       " ['Ccnb1', (array([ 8, 33, 35, 38]), array([69, 69, 69, 69], dtype=int64))],\n",
       " ['Cd14', (array([ 4, 15, 27, 38]), array([69, 69, 69, 69], dtype=int64))],\n",
       " ['Cd24a', (array([ 5, 13, 26, 31]), array([69, 69, 69, 69], dtype=int64))],\n",
       " ['Cdca7', (array([ 2, 32, 33, 38]), array([69, 69, 69, 69], dtype=int64))],\n",
       " ['Cdcp1', (array([ 4,  5, 38, 39]), array([69, 69, 69, 69], dtype=int64))],\n",
       " ['Cdh12', (array([ 2,  4,  5, 14]), array([69, 69, 69, 69], dtype=int64))],\n",
       " ['Cdh13', (array([ 5, 16, 21, 27]), array([69, 69, 69, 69], dtype=int64))],\n",
       " ['Cdh20', (array([ 2, 13, 25, 35]), array([69, 69, 69, 69], dtype=int64))],\n",
       " ['Cdh9', (array([ 2, 13, 21, 26]), array([69, 69, 69, 69], dtype=int64))],\n",
       " ['Ceacam9', (array([12, 25, 32, 33]), array([69, 69, 69, 69], dtype=int64))],\n",
       " ['Cemip', (array([ 2, 11, 26, 32]), array([69, 69, 69, 69], dtype=int64))],\n",
       " ['Chat', (array([ 3,  9, 13, 15]), array([69, 69, 69, 69], dtype=int64))],\n",
       " ['Chn2', (array([11, 12, 13, 15]), array([69, 69, 69, 69], dtype=int64))],\n",
       " ['Chodl', (array([ 3, 14, 25, 33]), array([69, 69, 69, 69], dtype=int64))],\n",
       " ['Chrm2', (array([ 8, 14, 21, 35]), array([69, 69, 69, 69], dtype=int64))],\n",
       " ['Chrna2', (array([ 3, 11, 33, 35]), array([69, 69, 69, 69], dtype=int64))],\n",
       " ['Cldn5', (array([ 9, 12, 16, 27]), array([57, 57, 60, 60], dtype=int64))],\n",
       " ['Clrn1', (array([ 8, 12, 25, 31]), array([69, 69, 69, 69], dtype=int64))],\n",
       " ['Cntnap5b', (array([ 3,  5, 12, 31]), array([69, 69, 69, 69], dtype=int64))],\n",
       " ['Cobll1', (array([11, 13, 38, 39]), array([69, 69, 69, 69], dtype=int64))],\n",
       " ['Col14a1', (array([ 4, 11, 25, 39]), array([69, 69, 69, 69], dtype=int64))],\n",
       " ['Col15a1', (array([ 4, 11, 16, 33]), array([69, 69, 69, 69], dtype=int64))],\n",
       " ['Col23a1', (array([ 5, 11, 14, 15]), array([69, 69, 69, 69], dtype=int64))],\n",
       " ['Col24a1', (array([25, 27, 35, 39]), array([69, 69, 69, 69], dtype=int64))],\n",
       " ['Col25a1', (array([ 2,  4, 31, 32]), array([69, 69, 69, 69], dtype=int64))],\n",
       " ['Corin', (array([11, 26, 33, 38]), array([69, 69, 69, 69], dtype=int64))],\n",
       " ['Cplx3', (array([ 4, 12, 27, 39]), array([69, 69, 69, 69], dtype=int64))],\n",
       " ['Crhr2', (array([ 3,  8, 26, 33]), array([69, 69, 69, 69], dtype=int64))],\n",
       " ['Crispld2', (array([ 3,  4, 16, 35]), array([69, 69, 69, 69], dtype=int64))],\n",
       " ['Cspg4', (array([ 4, 16, 27, 32]), array([69, 69, 69, 69], dtype=int64))],\n",
       " ['Ctss', (array([13, 25, 31, 33]), array([69, 69, 69, 69], dtype=int64))],\n",
       " ['Cux2', (array([ 3,  9, 11, 12]), array([69, 69, 69, 69], dtype=int64))],\n",
       " ['Cxcl14', (array([ 8, 14, 25, 26]), array([69, 69, 69, 69], dtype=int64))],\n",
       " ['Daam2', (array([ 4,  5, 21, 32]), array([69, 69, 69, 69], dtype=int64))],\n",
       " ['Dmkn', (array([16, 25, 33, 39]), array([39, 39, 39, 39], dtype=int64))],\n",
       " ['Dnase1l3', (array([ 5, 13, 25, 39]), array([69, 69, 69, 69], dtype=int64))],\n",
       " ['Dscaml1', (array([ 4,  9, 13, 31]), array([69, 69, 69, 69], dtype=int64))],\n",
       " ['Egfem1', (array([12, 16, 21, 38]), array([69, 69, 69, 69], dtype=int64))],\n",
       " ['Egfr', (array([ 9, 21, 26, 32]), array([69, 69, 69, 69], dtype=int64))],\n",
       " ['Egln3', (array([21, 26, 27, 39]), array([69, 69, 69, 69], dtype=int64))],\n",
       " ['Egr2', (array([ 9, 11, 33, 39]), array([69, 69, 69, 69], dtype=int64))],\n",
       " ['Elfn1', (array([ 2, 15, 25, 39]), array([69, 69, 69, 69], dtype=int64))],\n",
       " ['Enpp6', (array([ 8, 16, 27, 38]), array([69, 69, 69, 69], dtype=int64))],\n",
       " ['Epha7', (array([ 3, 16, 32, 33]), array([69, 69, 69, 69], dtype=int64))],\n",
       " ['Fam19a2', (array([ 4,  5,  9, 26]), array([69, 69, 69, 69], dtype=int64))],\n",
       " ['Fam84b', (array([14, 21, 33, 38]), array([69, 69, 69, 69], dtype=int64))],\n",
       " ['Fbxl7', (array([ 2,  9, 12, 31]), array([69, 69, 69, 69], dtype=int64))],\n",
       " ['Fezf2', (array([ 4, 14, 25, 27]), array([69, 69, 69, 69], dtype=int64))],\n",
       " ['Flrt3', (array([ 2,  5, 21, 31]), array([69, 69, 69, 69], dtype=int64))],\n",
       " ['Flt1', (array([11, 14, 27, 39]), array([69, 69, 69, 69], dtype=int64))],\n",
       " ['Fndc7', (array([ 2,  8, 31, 38]), array([69, 69, 69, 69], dtype=int64))],\n",
       " ['Fosb', (array([26, 27, 32, 38]), array([69, 69, 69, 69], dtype=int64))],\n",
       " ['Foxp2', (array([ 9, 14, 15, 31]), array([69, 69, 69, 69], dtype=int64))],\n",
       " ['Frem2', (array([ 8, 11, 26, 35]), array([69, 69, 69, 69], dtype=int64))],\n",
       " ['Fst', (array([12, 13, 31, 32]), array([69, 69, 69, 69], dtype=int64))],\n",
       " ['Gfap', (array([ 2,  5, 25, 27]), array([69, 69, 69, 69], dtype=int64))],\n",
       " ['Glra1', (array([ 4,  9, 25, 33]), array([69, 69, 69, 69], dtype=int64))],\n",
       " ['Gpc6', (array([ 2,  8, 11, 16]), array([69, 69, 69, 69], dtype=int64))],\n",
       " ['Grik1', (array([15, 16, 26, 27]), array([69, 69, 69, 69], dtype=int64))],\n",
       " ['Grin3a', (array([ 2,  8, 32, 35]), array([69, 69, 69, 69], dtype=int64))],\n",
       " ['Grm1', (array([ 3, 27, 31, 38]), array([69, 69, 69, 69], dtype=int64))],\n",
       " ['Grm8', (array([ 5,  8, 12, 16]), array([69, 69, 69, 69], dtype=int64))],\n",
       " ['Hpse', (array([ 9, 25, 31, 38]), array([69, 69, 69, 69], dtype=int64))],\n",
       " ['Hs3st5', (array([ 3, 15, 33, 38]), array([69, 69, 69, 69], dtype=int64))],\n",
       " ['Igf2', (array([ 2, 15, 27, 35]), array([69, 69, 69, 69], dtype=int64))],\n",
       " ['Igfbp4', (array([21, 25, 27, 31]), array([69, 69, 69, 69], dtype=int64))],\n",
       " ['Igfbp5', (array([2, 3, 5, 9]), array([69, 69, 69, 69], dtype=int64))],\n",
       " ['Ikzf2', (array([12, 14, 27, 35]), array([69, 69, 69, 69], dtype=int64))],\n",
       " ['Il1rapl2', (array([ 9, 11, 14, 32]), array([69, 69, 69, 69], dtype=int64))],\n",
       " ['Il4ra', (array([ 9, 11, 13, 26]), array([69, 69, 69, 69], dtype=int64))],\n",
       " ['Inpp4b', (array([ 5, 14, 35, 38]), array([69, 69, 69, 69], dtype=int64))],\n",
       " ['Iqgap2', (array([11, 12, 21, 31]), array([69, 69, 69, 69], dtype=int64))],\n",
       " ['Itgb8', (array([ 2, 21, 33, 39]), array([69, 69, 69, 69], dtype=int64))],\n",
       " ['Kcng1', (array([ 3, 21, 25, 38]), array([69, 69, 69, 69], dtype=int64))],\n",
       " ['Kcnj8', (array([ 2, 13, 27, 39]), array([69, 69, 69, 69], dtype=int64))],\n",
       " ['L3mbtl4', (array([ 4,  9, 16, 39]), array([69, 69, 69, 69], dtype=int64))],\n",
       " ['Lama3', (array([ 2, 12, 25, 38]), array([69, 69, 69, 69], dtype=int64))],\n",
       " ['Lhx6', (array([ 3, 12, 16, 25]), array([69, 69, 69, 69], dtype=int64))],\n",
       " ['Lmo1', (array([ 3, 14, 15, 21]), array([57, 54, 57, 57], dtype=int64))],\n",
       " ['Lsp1', (array([ 4,  8, 26, 27]), array([69, 69, 69, 69], dtype=int64))],\n",
       " ['Ltf', (array([ 2,  4, 12, 13]), array([69, 69, 69, 69], dtype=int64))],\n",
       " ['Luzp2', (array([15, 16, 21, 39]), array([69, 69, 69, 69], dtype=int64))],\n",
       " ['Lypd1', (array([12, 14, 16, 33]), array([69, 69, 69, 69], dtype=int64))],\n",
       " ['Lyzl4', (array([ 2,  3, 16, 38]), array([54, 57, 54, 54], dtype=int64))],\n",
       " ['Marcksl1', (array([25, 26, 31, 39]), array([57, 57, 57, 57], dtype=int64))],\n",
       " ['Meis2', (array([ 2,  3,  8, 27]), array([66, 66, 69, 66], dtype=int64))],\n",
       " ['Moxd1', (array([ 3,  4, 15, 31]), array([69, 69, 69, 69], dtype=int64))],\n",
       " ['Mrc1', (array([15, 27, 31, 33]), array([69, 69, 69, 69], dtype=int64))],\n",
       " ['Mrgprx2', (array([16, 27, 33, 35]), array([69, 69, 69, 69], dtype=int64))],\n",
       " ['Muc20', (array([11, 13, 21, 32]), array([69, 69, 69, 69], dtype=int64))],\n",
       " ['Myh14', (array([ 4, 13, 25, 38]), array([69, 69, 69, 69], dtype=int64))],\n",
       " ['Ndst4', (array([ 3,  9, 21, 31]), array([69, 69, 69, 69], dtype=int64))],\n",
       " ['Nhs', (array([ 4, 12, 25, 35]), array([69, 69, 69, 69], dtype=int64))],\n",
       " ['Nkain3', (array([11, 14, 25, 35]), array([69, 69, 69, 69], dtype=int64))],\n",
       " ['Nnmt', (array([ 2,  3, 15, 32]), array([57, 57, 57, 57], dtype=int64))],\n",
       " ['Nos1', (array([12, 16, 32, 39]), array([69, 69, 69, 69], dtype=int64))],\n",
       " ['Npas1', (array([14, 16, 25, 32]), array([69, 69, 69, 69], dtype=int64))],\n",
       " ['Npnt', (array([ 2, 14, 38, 39]), array([69, 69, 69, 69], dtype=int64))],\n",
       " ['Npsr1', (array([ 8, 14, 31, 39]), array([69, 69, 69, 69], dtype=int64))],\n",
       " ['Npy2r', (array([ 3, 12, 13, 26]), array([69, 69, 69, 69], dtype=int64))],\n",
       " ['Nr2f2', (array([ 5,  9, 11, 31]), array([69, 69, 69, 69], dtype=int64))],\n",
       " ['Nr4a1', (array([ 4,  8, 15, 16]), array([69, 69, 69, 69], dtype=int64))],\n",
       " ['Nr4a2', (array([ 5,  8, 21, 38]), array([69, 69, 69, 69], dtype=int64))],\n",
       " ['Ntng2', (array([ 3, 14, 16, 39]), array([60, 60, 60, 57], dtype=int64))],\n",
       " ['Nxph1', (array([11, 14, 21, 26]), array([69, 69, 69, 69], dtype=int64))],\n",
       " ['Nxph2', (array([ 4, 16, 26, 38]), array([69, 69, 69, 69], dtype=int64))],\n",
       " ['Nxph4', (array([ 5, 12, 13, 14]), array([66, 66, 66, 63], dtype=int64))],\n",
       " ['Olah', (array([ 3, 13, 14, 31]), array([69, 69, 69, 69], dtype=int64))],\n",
       " ['Olfm3', (array([ 2,  4,  8, 33]), array([69, 69, 69, 69], dtype=int64))],\n",
       " ['Opalin', (array([ 5, 15, 25, 35]), array([69, 69, 69, 69], dtype=int64))],\n",
       " ['Oprk1', (array([31, 32, 35, 38]), array([69, 69, 69, 69], dtype=int64))],\n",
       " ['Osr1', (array([ 4, 32, 33, 35]), array([69, 69, 69, 69], dtype=int64))],\n",
       " ['Otof', (array([ 8, 15, 27, 32]), array([69, 69, 69, 69], dtype=int64))],\n",
       " ['Parm1', (array([13, 14, 26, 32]), array([69, 69, 69, 69], dtype=int64))],\n",
       " ['Pcdh8', (array([ 5,  9, 16, 38]), array([69, 69, 69, 69], dtype=int64))],\n",
       " ['Pde11a', (array([13, 16, 25, 26]), array([69, 69, 69, 69], dtype=int64))],\n",
       " ['Pdgfc', (array([ 8,  9, 16, 21]), array([69, 69, 69, 69], dtype=int64))],\n",
       " ['Pdgfra', (array([ 3,  4, 11, 32]), array([69, 69, 69, 69], dtype=int64))],\n",
       " ['Pdlim5', (array([ 3,  8, 15, 35]), array([69, 69, 69, 69], dtype=int64))],\n",
       " ['Phactr2', (array([ 5, 14, 31, 32]), array([69, 69, 69, 69], dtype=int64))],\n",
       " ['Plch1', (array([12, 15, 21, 32]), array([69, 69, 69, 69], dtype=int64))],\n",
       " ['Plcxd3', (array([ 2, 11, 27, 38]), array([69, 69, 69, 69], dtype=int64))],\n",
       " ['Pld5', (array([ 5,  9, 12, 21]), array([69, 69, 69, 69], dtype=int64))],\n",
       " ['Plekhg3', (array([ 4,  9, 12, 32]), array([69, 69, 69, 69], dtype=int64))],\n",
       " ['Pou3f1', (array([ 2,  3,  4, 26]), array([69, 69, 69, 69], dtype=int64))],\n",
       " ['Pou3f3', (array([13, 16, 21, 35]), array([69, 69, 69, 69], dtype=int64))],\n",
       " ['Pou6f2', (array([ 5, 13, 27, 35]), array([69, 69, 69, 69], dtype=int64))],\n",
       " ['Prdm8', (array([ 8, 12, 21, 27]), array([69, 69, 69, 69], dtype=int64))],\n",
       " ['Prok2', (array([ 4, 31, 33, 38]), array([51, 51, 51, 51], dtype=int64))],\n",
       " ['Prokr2', (array([ 4, 13, 14, 15]), array([69, 69, 69, 69], dtype=int64))],\n",
       " ['Prox1', (array([ 9, 26, 38, 39]), array([69, 69, 69, 69], dtype=int64))],\n",
       " ['Prr16', (array([12, 13, 35, 38]), array([69, 69, 69, 69], dtype=int64))],\n",
       " ['Prss12', (array([ 8, 11, 27, 31]), array([69, 69, 69, 69], dtype=int64))],\n",
       " ['Prss23', (array([15, 26, 33, 35]), array([69, 69, 69, 69], dtype=int64))],\n",
       " ['Ptger3', (array([ 5, 15, 21, 26]), array([69, 69, 69, 69], dtype=int64))],\n",
       " ['Ptprk', (array([ 8,  9, 15, 39]), array([69, 69, 69, 69], dtype=int64))],\n",
       " ['Ptprm', (array([ 3, 12, 14, 32]), array([69, 69, 69, 69], dtype=int64))],\n",
       " ['Ptprt', (array([11, 15, 35, 38]), array([69, 69, 69, 69], dtype=int64))],\n",
       " ['Ptpru', (array([ 8,  9, 12, 38]), array([69, 69, 69, 69], dtype=int64))],\n",
       " ['Pxdc1', (array([ 9, 13, 14, 21]), array([69, 69, 69, 69], dtype=int64))],\n",
       " ['Ramp1', (array([ 4, 14, 21, 31]), array([69, 69, 69, 69], dtype=int64))],\n",
       " ['Reln', (array([ 3,  9, 35, 39]), array([69, 69, 69, 69], dtype=int64))],\n",
       " ['Rerg', (array([ 3,  4, 27, 33]), array([69, 69, 69, 69], dtype=int64))],\n",
       " ['Rfx3', (array([ 8, 16, 26, 32]), array([69, 69, 69, 69], dtype=int64))],\n",
       " ['Rgs5', (array([13, 15, 21, 31]), array([69, 69, 69, 69], dtype=int64))],\n",
       " ['Rgs6', (array([ 9, 13, 33, 38]), array([69, 69, 69, 69], dtype=int64))],\n",
       " ['Rnf152', (array([12, 14, 25, 39]), array([69, 69, 69, 69], dtype=int64))],\n",
       " ['Ror1', (array([21, 31, 35, 39]), array([69, 69, 69, 69], dtype=int64))],\n",
       " ['Rorb', (array([ 5, 12, 27, 38]), array([69, 69, 69, 69], dtype=int64))],\n",
       " ['Rspo1', (array([ 8, 15, 26, 38]), array([69, 69, 69, 69], dtype=int64))],\n",
       " ['Rxfp1', (array([ 8, 12, 26, 39]), array([69, 69, 69, 69], dtype=int64))],\n",
       " ['Rxfp2', (array([ 4, 11, 27, 35]), array([69, 69, 69, 69], dtype=int64))],\n",
       " ['Satb2', (array([ 4,  8, 31, 35]), array([69, 69, 69, 69], dtype=int64))],\n",
       " ['Scgn', (array([ 4, 11, 12, 14]), array([69, 69, 69, 69], dtype=int64))],\n",
       " ['Sema3e', (array([ 3,  5, 11, 21]), array([69, 69, 69, 69], dtype=int64))],\n",
       " ['Sema5a', (array([13, 15, 25, 27]), array([69, 69, 69, 69], dtype=int64))],\n",
       " ['Serpinf1', (array([12, 15, 38, 39]), array([69, 69, 69, 69], dtype=int64))],\n",
       " ['Sertm1', (array([ 8, 11, 15, 33]), array([69, 69, 69, 69], dtype=int64))],\n",
       " ['Sgcd', (array([15, 16, 31, 35]), array([69, 69, 69, 69], dtype=int64))],\n",
       " ['Shisa9', (array([16, 26, 31, 33]), array([69, 69, 69, 69], dtype=int64))],\n",
       " ['Slc17a6', (array([ 3,  8, 11, 38]), array([69, 69, 69, 69], dtype=int64))],\n",
       " ['Slc17a8', (array([ 3, 25, 32, 39]), array([69, 69, 69, 69], dtype=int64))],\n",
       " ['Slc25a13', (array([ 2, 26, 27, 33]), array([69, 69, 69, 69], dtype=int64))],\n",
       " ['Slc30a3', (array([ 5, 16, 25, 31]), array([69, 69, 69, 69], dtype=int64))],\n",
       " ['Slc32a1', (array([ 2,  3, 12, 21]), array([69, 69, 69, 69], dtype=int64))],\n",
       " ['Slc44a5', (array([ 3, 11, 16, 27]), array([69, 69, 69, 69], dtype=int64))],\n",
       " ['Slco5a1', (array([ 8, 13, 14, 16]), array([69, 69, 69, 69], dtype=int64))],\n",
       " ['Sncg', (array([ 4, 11, 26, 31]), array([48, 45, 48, 45], dtype=int64))],\n",
       " ['Sox10', (array([ 9, 12, 33, 35]), array([69, 69, 69, 69], dtype=int64))],\n",
       " ['Sox6', (array([11, 12, 35, 39]), array([69, 69, 69, 69], dtype=int64))],\n",
       " ['Sp8', (array([ 9, 12, 15, 26]), array([69, 69, 69, 69], dtype=int64))],\n",
       " ['Spon1', (array([ 9, 25, 32, 35]), array([69, 69, 69, 69], dtype=int64))],\n",
       " ['St6galnac5',\n",
       "  (array([ 5,  8, 14, 33]), array([69, 69, 69, 69], dtype=int64))],\n",
       " ['Sulf1', (array([ 8, 13, 25, 32]), array([69, 69, 69, 69], dtype=int64))],\n",
       " ['Sulf2', (array([13, 14, 27, 38]), array([69, 69, 69, 69], dtype=int64))],\n",
       " ['Syndig1', (array([ 2,  5, 11, 12]), array([69, 69, 69, 69], dtype=int64))],\n",
       " ['Syt10', (array([ 3,  4, 13, 21]), array([69, 69, 69, 69], dtype=int64))],\n",
       " ['Syt6', (array([ 8, 12, 13, 33]), array([69, 69, 69, 69], dtype=int64))],\n",
       " ['Tbc1d4', (array([13, 16, 31, 39]), array([69, 69, 69, 69], dtype=int64))],\n",
       " ['Tcap', (array([ 2,  9, 13, 32]), array([42, 42, 42, 42], dtype=int64))],\n",
       " ['Teddm3', (array([ 8, 31, 32, 33]), array([69, 69, 69, 69], dtype=int64))],\n",
       " ['Tenm3', (array([13, 21, 27, 33]), array([69, 69, 69, 69], dtype=int64))],\n",
       " ['Th', (array([13, 26, 33, 39]), array([69, 69, 69, 69], dtype=int64))],\n",
       " ['Thbs2', (array([ 5, 15, 27, 39]), array([69, 69, 69, 69], dtype=int64))],\n",
       " ['Thsd7a', (array([ 5, 31, 33, 39]), array([69, 69, 69, 69], dtype=int64))],\n",
       " ['Timp3', (array([ 3,  5,  8, 25]), array([69, 69, 69, 69], dtype=int64))],\n",
       " ['Tmem163', (array([11, 16, 32, 35]), array([69, 69, 69, 69], dtype=int64))],\n",
       " ['Tmtc2', (array([15, 16, 32, 38]), array([69, 69, 69, 69], dtype=int64))],\n",
       " ['Tnfaip6', (array([ 2,  4, 35, 38]), array([69, 69, 69, 69], dtype=int64))],\n",
       " ['Tox', (array([ 5, 16, 26, 39]), array([69, 69, 69, 69], dtype=int64))],\n",
       " ['Trp53i11', (array([ 5, 21, 33, 35]), array([69, 69, 69, 69], dtype=int64))],\n",
       " ['Trpc4', (array([ 3, 27, 32, 35]), array([69, 69, 69, 69], dtype=int64))],\n",
       " ['Trpc6', (array([ 3,  8, 13, 39]), array([69, 69, 69, 69], dtype=int64))],\n",
       " ['Tshz2', (array([ 3, 26, 31, 32]), array([69, 69, 69, 69], dtype=int64))],\n",
       " ['Tunar', (array([ 9, 11, 16, 25]), array([69, 69, 69, 69], dtype=int64))],\n",
       " ['Ubash3b', (array([ 2, 15, 26, 31]), array([69, 69, 69, 69], dtype=int64))],\n",
       " ['Unc13c', (array([ 3,  9, 25, 27]), array([69, 69, 69, 69], dtype=int64))],\n",
       " ['Unc5b', (array([ 2, 16, 21, 25]), array([69, 69, 69, 69], dtype=int64))],\n",
       " ['Unc5d', (array([ 5,  8, 32, 39]), array([69, 69, 69, 69], dtype=int64))],\n",
       " ['Ust', (array([ 5,  8,  9, 27]), array([69, 69, 69, 69], dtype=int64))],\n",
       " ['Vipr2', (array([ 9, 21, 27, 38]), array([69, 69, 69, 69], dtype=int64))],\n",
       " ['Vtn', (array([ 2,  5, 13, 15]), array([69, 69, 69, 69], dtype=int64))],\n",
       " ['Vwc2', (array([ 3,  8, 16, 31]), array([69, 69, 69, 69], dtype=int64))],\n",
       " ['Wipf3', (array([26, 27, 31, 35]), array([69, 69, 69, 69], dtype=int64))],\n",
       " ['Wnt7b', (array([ 2, 31, 33, 35]), array([69, 69, 69, 69], dtype=int64))],\n",
       " ['Zfp804b', (array([ 4,  8, 21, 39]), array([69, 69, 69, 69], dtype=int64))]]"
      ]
     },
     "execution_count": 135,
     "metadata": {},
     "output_type": "execute_result"
    }
   ],
   "source": [
    "[[gn,np.unique(dic_Rs[gn],return_counts=True)]for gn in dic_Rs if len(np.unique(dic_Rs[gn]))==4]"
   ]
  },
  {
   "cell_type": "code",
   "execution_count": 112,
   "id": "bb9c6cfa",
   "metadata": {},
   "outputs": [
    {
     "data": {
      "text/plain": [
       "'CGCAAACTGGTGCGGAAGGCccgagagtcaacgacagtcaTGAGATTGGAAGCTCATAGATCTGAAGGTTccgagagtcaacgacagtcaCCGAGAGTCAACGACAGTCAgtcgatgcagcgcgaaaggg'"
      ]
     },
     "execution_count": 112,
     "metadata": {},
     "output_type": "execute_result"
    }
   ],
   "source": [
    "lib_seqs[10]"
   ]
  },
  {
   "cell_type": "code",
   "execution_count": 91,
   "id": "a532eeec",
   "metadata": {},
   "outputs": [
    {
     "data": {
      "text/plain": [
       "(array(['aacccgagcggccatctaac', 'aagaaccgcaaggcatcatt',\n",
       "        'aatgcttagtcaacgagttc', 'acacgctataaagggtcgat',\n",
       "        'accgatttatgaggccgttc', 'acgcctctcatgtatcgcct',\n",
       "        'aggaatatttaaccgacacc', 'agtgttagccgaccgatatg',\n",
       "        'atcaacgtacccacaaagtc', 'atgccactcggatatttcta',\n",
       "        'attgatagacgatccagacg', 'caaacgtgtaacagacgccc',\n",
       "        'caatgatcgtggacaccgac', 'cataaggatcctgcaatacg',\n",
       "        'ccaatgtctcgtacgtgacc', 'ccgagagtcaacgacagtca',\n",
       "        'ctaaatcgatgccgtggtag', 'cttagtctcgcgcgccggat',\n",
       "        'gacatgggcgtaaacctgat', 'gacgcggcacaccttgatcg',\n",
       "        'gcaaggtaacaggtcgttcg', 'gcctagcataacatgtcgca',\n",
       "        'gcgtcaatcgctgcgtgcaa', 'gcttcgaggctaaccttcgc',\n",
       "        'ggatatgaaggcgttcccaa', 'ggtacctactaaagcgccta',\n",
       "        'gtctaaggacatcgacatat', 'gttcacgaagcagcataccg',\n",
       "        'gttgaaggcggattcgaaca', 'gttgcgttccacggtaccac',\n",
       "        'gtttgctctgcggacgcggt', 'taacgaaagcaaattcgccg',\n",
       "        'taaggccaccttgcgataag', 'taccgcggcttagtagttga',\n",
       "        'tatagctaattcaggcgcta', 'tcacatatccgaccgggatc',\n",
       "        'tcagaagtattccggtgaac', 'tgctttgagacggttcgcat',\n",
       "        'tgtaccagtacgcagccgac', 'ttcggaaagtgacaaccacc'], dtype='<U20'),\n",
       " array([  44,   48,  970, 1058,  999, 1034,   48,   11, 1012,  953,   11,\n",
       "        1027, 1007, 1002,  933,  958,  968,   48,   48,   40,   48, 1008,\n",
       "          38,   48,   48,  975, 1041, 1054,   48,   48,   48, 1040, 1068,\n",
       "         973,   31,  960,   48,   48,  994,  971], dtype=int64))"
      ]
     },
     "execution_count": 91,
     "metadata": {},
     "output_type": "execute_result"
    }
   ],
   "source": []
  },
  {
   "cell_type": "code",
   "execution_count": 93,
   "id": "238d0c6a",
   "metadata": {},
   "outputs": [
    {
     "data": {
      "text/plain": [
       "(array([ 0,  1,  2,  3,  4,  5,  6,  7,  8,  9, 10, 11, 12, 13, 14, 15, 16,\n",
       "        17, 18, 19, 20, 21, 22, 23, 24, 25, 26, 27, 28, 29, 30, 31, 32, 33,\n",
       "        34, 35, 36, 37, 38, 39], dtype=int64),\n",
       " array([  44,   48,  970, 1058,  999, 1034,   48,   11, 1012,  953,   11,\n",
       "        1027, 1007, 1002,  933,  958,  968,   48,   48,   40,   48, 1008,\n",
       "          38,   48,   48,  975, 1041, 1054,   48,   48,   48, 1040, 1068,\n",
       "         973,   31,  960,   48,   48,  994,  971], dtype=int64))"
      ]
     },
     "execution_count": 93,
     "metadata": {},
     "output_type": "execute_result"
    }
   ],
   "source": [
    "np.unique(np.where(dists>0)[-1],return_counts=True)"
   ]
  },
  {
   "cell_type": "code",
   "execution_count": 92,
   "id": "a1fa2357",
   "metadata": {},
   "outputs": [
    {
     "data": {
      "text/plain": [
       "22756"
      ]
     },
     "execution_count": 92,
     "metadata": {},
     "output_type": "execute_result"
    }
   ],
   "source": [
    "len(lib_seqs)"
   ]
  },
  {
   "cell_type": "code",
   "execution_count": 74,
   "id": "b46e43c6",
   "metadata": {},
   "outputs": [
    {
     "data": {
      "text/plain": [
       "array(['aacccgagcggccatctaac', 'aagaaccgcaaggcatcatt',\n",
       "       'aatgcttagtcaacgagttc', 'acacgctataaagggtcgat',\n",
       "       'accgatttatgaggccgttc', 'acgcctctcatgtatcgcct',\n",
       "       'aggaatatttaaccgacacc', 'agtgttagccgaccgatatg',\n",
       "       'atcaacgtacccacaaagtc', 'atgccactcggatatttcta',\n",
       "       'attgatagacgatccagacg', 'caaacgtgtaacagacgccc',\n",
       "       'caatgatcgtggacaccgac', 'cataaggatcctgcaatacg',\n",
       "       'ccaatgtctcgtacgtgacc', 'ccgagagtcaacgacagtca',\n",
       "       'ctaaatcgatgccgtggtag', 'cttagtctcgcgcgccggat',\n",
       "       'gacatgggcgtaaacctgat', 'gacgcggcacaccttgatcg',\n",
       "       'gcaaggtaacaggtcgttcg', 'gcctagcataacatgtcgca',\n",
       "       'gcgtcaatcgctgcgtgcaa', 'gcttcgaggctaaccttcgc',\n",
       "       'ggatatgaaggcgttcccaa', 'ggtacctactaaagcgccta',\n",
       "       'gtctaaggacatcgacatat', 'gttcacgaagcagcataccg',\n",
       "       'gttgaaggcggattcgaaca', 'gttgcgttccacggtaccac',\n",
       "       'gtttgctctgcggacgcggt', 'taacgaaagcaaattcgccg',\n",
       "       'taaggccaccttgcgataag', 'taccgcggcttagtagttga',\n",
       "       'tatagctaattcaggcgcta', 'tcacatatccgaccgggatc',\n",
       "       'tcagaagtattccggtgaac', 'tgctttgagacggttcgcat',\n",
       "       'tgtaccagtacgcagccgac', 'ttcggaaagtgacaaccacc'], dtype='<U20')"
      ]
     },
     "execution_count": 74,
     "metadata": {},
     "output_type": "execute_result"
    }
   ],
   "source": [
    "Ru"
   ]
  },
  {
   "cell_type": "code",
   "execution_count": 72,
   "id": "cba259da",
   "metadata": {},
   "outputs": [
    {
     "data": {
      "text/plain": [
       "array([  44,   48,  970, 1058,  999, 1034,   48,   11, 1012,  953,   11,\n",
       "       1027, 1007, 1002,  933,  958,  968,   48,   48,   40,   48, 1008,\n",
       "         38,   48,   48,  975, 1041, 1054,   48,   48,   48, 1040, 1068,\n",
       "        973,   31,  960,   48,   48,  994,  971], dtype=int64)"
      ]
     },
     "execution_count": 72,
     "metadata": {},
     "output_type": "execute_result"
    }
   ],
   "source": [
    "nctsu"
   ]
  },
  {
   "cell_type": "code",
   "execution_count": null,
   "id": "70bd8a6e",
   "metadata": {},
   "outputs": [],
   "source": []
  },
  {
   "cell_type": "code",
   "execution_count": 28,
   "id": "5f3d484c",
   "metadata": {},
   "outputs": [
    {
     "name": "stdout",
     "output_type": "stream",
     "text": [
      " Volume in drive C has no label.\n",
      " Volume Serial Number is 8454-AA1F\n",
      "\n",
      " Directory of C:\\Users\\Bogdan\\Dropbox\\ChrisGlass_Project\\mm10_transcriptome\n",
      "\n",
      "10/24/2021  04:22 PM    <DIR>          .\n",
      "10/24/2021  04:22 PM    <DIR>          ..\n",
      "10/24/2021  04:11 PM        30,053,406 gene_names.tsv\n",
      "10/24/2021  03:59 PM        13,761,898 gene_names_2.tsv\n",
      "01/10/2020  10:40 AM       413,369,973 mm10.ncbiRefSeq.gtf\n",
      "10/23/2021  04:41 PM       234,448,095 mouse_GRCm39_exons.fasta\n",
      "10/23/2021  01:54 PM     1,334,264,044 mouse_GRCm39_genesUnspliced.fasta\n",
      "10/23/2021  04:49 PM    34,359,738,368 mouse_GRCm39_genesUnspliced_17w.bin\n",
      "10/24/2021  04:22 PM       420,812,267 top_genes_micro_ctx.fasta\n",
      "               7 File(s) 36,806,448,051 bytes\n",
      "               2 Dir(s)  2,662,409,957,376 bytes free\n"
     ]
    }
   ],
   "source": [
    "!cd C:\\Users\\Bogdan\\Dropbox\\ChrisGlass_Project\\mm10_transcriptome && dir"
   ]
  },
  {
   "cell_type": "code",
   "execution_count": null,
   "id": "8aabbf76",
   "metadata": {},
   "outputs": [],
   "source": []
  }
 ],
 "metadata": {
  "kernelspec": {
   "display_name": "Python 3 (ipykernel)",
   "language": "python",
   "name": "python3"
  },
  "language_info": {
   "codemirror_mode": {
    "name": "ipython",
    "version": 3
   },
   "file_extension": ".py",
   "mimetype": "text/x-python",
   "name": "python",
   "nbconvert_exporter": "python",
   "pygments_lexer": "ipython3",
   "version": "3.8.8"
  },
  "toc": {
   "base_numbering": 1,
   "nav_menu": {},
   "number_sections": true,
   "sideBar": true,
   "skip_h1_title": false,
   "title_cell": "Table of Contents",
   "title_sidebar": "Contents",
   "toc_cell": false,
   "toc_position": {},
   "toc_section_display": true,
   "toc_window_display": false
  }
 },
 "nbformat": 4,
 "nbformat_minor": 5
}
