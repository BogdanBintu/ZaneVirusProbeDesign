{
 "cells": [
  {
   "cell_type": "code",
   "execution_count": null,
   "id": "3cac8d59",
   "metadata": {},
   "outputs": [],
   "source": [
    "### Design:\n",
    "primer A - E1,E2... + extra barcodes- AATTC primer B1,B2... - G|AATTC restriction primer C\n",
    "\n",
    "primer D                           -G|AATTC -  primer B1,B2... - G barcode1,2,3... - primer F\n",
    "\n",
    "total length of each is ~350"
   ]
  },
  {
   "cell_type": "code",
   "execution_count": 8,
   "id": "ec2513a6",
   "metadata": {},
   "outputs": [
    {
     "data": {
      "text/plain": [
       "14.0"
      ]
     },
     "execution_count": 8,
     "metadata": {},
     "output_type": "execute_result"
    }
   ],
   "source": [
    "(340-20*2-20)/20"
   ]
  },
  {
   "cell_type": "code",
   "execution_count": 109,
   "id": "a64074c8",
   "metadata": {},
   "outputs": [],
   "source": [
    "resA = 'G'\n",
    "resB = 'AATTC'\n",
    "primerA = 'gtcgacggcgcgccgcgg'.upper()\n",
    "primerF = 'GCCGTCCGTCATCTCGTTTTCG'\n",
    "primerC = 'CGGCTCGCAGCGTGTAAACG'\n",
    "primerD = 'CATTTCAGGATCACCGGCGG'\n",
    "\n",
    "#Primer A: gtcgacggcgcgccgcgg\n",
    "#Primer F: GCCGTCCGTCATCTCGTTTTCG\n",
    "\n",
    "#len(primerD)\n",
    "#W1A02_primer_1\tTAATACGACTCACTATAGGGCATTTCAGGATCACCGGCGG\n"
   ]
  },
  {
   "cell_type": "code",
   "execution_count": 110,
   "id": "7e89665f",
   "metadata": {},
   "outputs": [],
   "source": [
    "import glob,numpy as np\n",
    "fastas =  np.sort([fl for fl in glob.glob('CRE*.fasta') if 'auto' not in fl.lower()])\n",
    "namesCRE,seqsCRE = np.array([[ln[:-1] for ln in open(fl,'r')] for fl in fastas]).T\n"
   ]
  },
  {
   "cell_type": "code",
   "execution_count": 2,
   "id": "240e744a",
   "metadata": {},
   "outputs": [],
   "source": [
    "import sys,os\n",
    "#dropbox_fld = r'C:\\Users\\Bogdan\\Dropbox'\n",
    "google_fld = r'LibraryDesign3'\n",
    "sys.path.append(google_fld)\n",
    "#sys.path.append(os.path.abspath(r'LibraryDesign3'))\n",
    "import LibraryTools as lt\n",
    "import numpy as np\n",
    "import pickle\n",
    "from tqdm.notebook import tqdm"
   ]
  },
  {
   "cell_type": "code",
   "execution_count": 112,
   "id": "67e21627",
   "metadata": {},
   "outputs": [],
   "source": [
    "cnames,cseqs = lt.fastaread(r'C:\\Users\\Bogdan\\Dropbox\\HumanGenomeTranscriptome\\final_candidate_readouts_human.fasta')"
   ]
  },
  {
   "cell_type": "code",
   "execution_count": 113,
   "id": "0445418a",
   "metadata": {},
   "outputs": [],
   "source": [
    "nCREs = 20\n",
    "Bs = cseqs[:nCREs]\n",
    "nbarcodes = 4+14\n",
    "\n",
    "Barcodes = [sq for sq in cseqs if sq not in Bs]\n",
    "Barcodes_ = [Barcodes[i*nbarcodes:(i+1)*nbarcodes]for i in np.arange(nCREs)]"
   ]
  },
  {
   "cell_type": "code",
   "execution_count": 128,
   "id": "5d64f793",
   "metadata": {},
   "outputs": [],
   "source": [
    "iC = 0\n",
    "enhlib = []\n",
    "barlib = []\n",
    "for iC in range(nCREs):\n",
    "    nextra=4\n",
    "    extraBarcodes__ = (''.join(Barcodes_[iC][:nextra])[:-2]+'AA').lower().replace('gaattc','aaattc').upper()\n",
    "    enhlib_ = primerA+seqsCRE[iC].lower().replace('gaattc','aaattc')+extraBarcodes__+resB.lower()+Bs[iC]+(resA+resB).lower()+primerC\n",
    "    barlib_ = primerD+(resA+resB).lower()+Bs[iC]+resA.lower()+''.join(Barcodes_[iC][nextra:]).lower().replace('gaattc','aaattc').upper()+primerF.lower()\n",
    "    if False:\n",
    "        print(enhlib_)\n",
    "        print()\n",
    "        print(barlib_)\n",
    "    enhlib+=[enhlib_]\n",
    "    barlib+=[barlib_]"
   ]
  },
  {
   "cell_type": "code",
   "execution_count": 131,
   "id": "b7b87734",
   "metadata": {},
   "outputs": [
    {
     "data": {
      "text/plain": [
       "([1, 1, 1, 1, 1, 1, 1, 1, 1, 1, 1, 1, 1, 1, 1, 1, 1, 1, 1, 1],\n",
       " [1, 1, 1, 1, 1, 1, 1, 1, 1, 1, 1, 1, 1, 1, 1, 1, 1, 1, 1, 1])"
      ]
     },
     "execution_count": 131,
     "metadata": {},
     "output_type": "execute_result"
    }
   ],
   "source": [
    "[sq.lower().count('gaattc') for sq in enhlib],[sq.lower().count('gaattc') for sq in barlib]"
   ]
  },
  {
   "cell_type": "code",
   "execution_count": 132,
   "id": "e776a9dd",
   "metadata": {},
   "outputs": [],
   "source": [
    "txt = \"\"\"NDB_784_i1_-2xStv_82rc\ttagaaatatccgagtggcatTTTGCACTGCCGTCCTTGACTTTGCACTGCCGTCCTTGAC\t\t\t\t\t\t\t\tA1\tP1\n",
    "NDB_755_i2_-2xStv_1rc\ttgcgacatgttatgctaggcGATCCGATTGGAACCGTCCCGATCCGATTGGAACCGTCCC\t\t\t\t\t\t\t\tA2\tP1\n",
    "NDB_759_i3_-2xStv_79rc\ttgactgtcgttgactctcggTGCGAACTGTCCGGCTTTCATGCGAACTGTCCGGCTTTCA\t\t\t\t\t\t\t\tA3\tP1\n",
    "NDB_826_i4_-2xStv_82rc\tatatgtcgatgtccttagacTTTGCACTGCCGTCCTTGACTTTGCACTGCCGTCCTTGAC\t\t\t\t\t\t\t\tA4\tP1\n",
    "NDB_578_i5_-2xStv_1rc\taggcgatacatgagaggcgtGATCCGATTGGAACCGTCCCGATCCGATTGGAACCGTCCC\t\t\t\t\t\t\t\tA5\tP1\n",
    "NDB_795_i6_-2xStv_79rc\tgggcgtctgttacacgtttgTGCGAACTGTCCGGCTTTCATGCGAACTGTCCGGCTTTCA\t\t\t\t\t\t\t\tA6\tP1\n",
    "NDB_376_i7_-2xStv_82rc\tgactttgtgggtacgttgatTTTGCACTGCCGTCCTTGACTTTGCACTGCCGTCCTTGAC\t\t\t\t\t\t\t\tA7\tP1\n",
    "NDB_713_i8_-2xStv_1rc\tggtggttgtcactttccgaaGATCCGATTGGAACCGTCCCGATCCGATTGGAACCGTCCC\t\t\t\t\t\t\t\tA8\tP1\n",
    "NDB_777_i9_-2xStv_79rc\tcggcgaatttgctttcgttaTGCGAACTGTCCGGCTTTCATGCGAACTGTCCGGCTTTCA\t\t\t\t\t\t\t\tA9\tP1\n",
    "NDB_865_i10_-2xStv_82rc\tgatcccggtcggatatgtgaTTTGCACTGCCGTCCTTGACTTTGCACTGCCGTCCTTGAC\t\t\t\t\t\t\t\tA10\tP1\n",
    "NDB_533_i11_-2xStv_1rc\tgtcggctgcgtactggtacaGATCCGATTGGAACCGTCCCGATCCGATTGGAACCGTCCC\t\t\t\t\t\t\t\tA11\tP1\n",
    "NDB_801_i12_-2xStv_79rc\tgtcggtgtccacgatcattgTGCGAACTGTCCGGCTTTCATGCGAACTGTCCGGCTTTCA\t\t\t\t\t\t\t\tA12\tP1\n",
    "NDB_817_i13_-2xStv_82rc\tgaactcgttgactaagcattTTTGCACTGCCGTCCTTGACTTTGCACTGCCGTCCTTGAC\t\t\t\t\t\t\t\tB1\tP1\n",
    "NDB_725_i14_-2xStv_1rc\tctaccacggcatcgatttagGATCCGATTGGAACCGTCCCGATCCGATTGGAACCGTCCC\t\t\t\t\t\t\t\tB2\tP1\n",
    "NDB_807_i15_-2xStv_79rc\tcggtatgctgcttcgtgaacTGCGAACTGTCCGGCTTTCATGCGAACTGTCCGGCTTTCA\t\t\t\t\t\t\t\tB3\tP1\n",
    "NDB_652_i16_-2xStv_82rc\ttaggcgctttagtaggtaccTTTGCACTGCCGTCCTTGACTTTGCACTGCCGTCCTTGAC\t\t\t\t\t\t\t\tB4\tP1\n",
    "NDB_710_i17_-2xStv_1rc\ttcaactactaagccgcggtaGATCCGATTGGAACCGTCCCGATCCGATTGGAACCGTCCC\t\t\t\t\t\t\t\tB5\tP1\n",
    "NDB_690_i18_-2xStv_79rc\tgaacggcctcataaatcggtTGCGAACTGTCCGGCTTTCATGCGAACTGTCCGGCTTTCA\t\t\t\t\t\t\t\tB6\tP1\n",
    "NDB_718_i19_-2xStv_82rc\tcgtattgcaggatccttatgTTTGCACTGCCGTCCTTGACTTTGCACTGCCGTCCTTGAC\t\t\t\t\t\t\t\tB7\tP1\n",
    "NDB_971_i20_-2xStv_1rc\tcttatcgcaaggtggccttaGATCCGATTGGAACCGTCCCGATCCGATTGGAACCGTCCC\t\t\t\t\t\t\t\tB8\tP1\n",
    "NDB_699_i21_-2xStv_79rc\tatcgaccctttatagcgtgtTGCGAACTGTCCGGCTTTCATGCGAACTGTCCGGCTTTCA\t\t\t\t\t\t\t\tB9\tP1\"\"\"\n",
    "namesR = [ln.split('\\t')[0].split('_i')[0] for ln in txt.split('\\n')]\n",
    "seqsR = [lt.seqrc(ln.split('\\t')[1][:20]) for ln in txt.split('\\n')]"
   ]
  },
  {
   "cell_type": "code",
   "execution_count": null,
   "id": "dcd8cd16",
   "metadata": {},
   "outputs": [],
   "source": [
    "NDB_376_i7_-2xStv_82rc\tgactttgtgggtacgttgatTTTGCACTGCCGTCCTTGACTTTGCACTGCCGTCCTTGAC\t\t\t\t\t\t\t\tA7\tP1\n",
    "NDB_533_i11_-2xStv_1rc\tgtcggctgcgtactggtacaGATCCGATTGGAACCGTCCCGATCCGATTGGAACCGTCCC\t\t\t\t\t\t\t\tA11\tP1"
   ]
  },
  {
   "cell_type": "code",
   "execution_count": 3,
   "id": "d06b8c7c",
   "metadata": {},
   "outputs": [
    {
     "data": {
      "text/plain": [
       "'atcaacgtacccacaaagtc'"
      ]
     },
     "execution_count": 3,
     "metadata": {},
     "output_type": "execute_result"
    }
   ],
   "source": [
    "lt.seqrc('gactttgtgggtacgttgat')#NDB_376_i7_-2xStv_82rc\tgactttgtgggtacgttgatTTTGCACTGCCGTCCTTGACTTTGCACTGCCGTCCTTGAC\t\t\t\t\t\t\t\tA7\tP1"
   ]
  },
  {
   "cell_type": "code",
   "execution_count": null,
   "id": "7b37d367",
   "metadata": {},
   "outputs": [],
   "source": [
    "CREDEC\tCGCAAACTGGTGCGGAAGGCatcaacgtacccacaaagtcGGACAGTTAAACCGTGCTGCAGAACACGCAATCCAGTTCAatcaacgtacccacaaagtcATCAACGTACCCACAAAGTCtctttggcgcgatgcacaag\n",
    "CREDEC\tCGCAAACTGGTGCGGAAGGCatcaacgtacccacaaagtcAACTCGTAAGTTGGACGACGAGTCAGCCGTCTCATGTCAGatcaacgtacccacaaagtcATCAACGTACCCACAAAGTCtctttggcgcgatgcacaag\n",
    "CREDEC\tCGCAAACTGGTGCGGAAGGCatcaacgtacccacaaagtcAGCGGATCCAAACGCTACTATTTTGATCCGACCTCACTGCatcaacgtacccacaaagtcATCAACGTACCCACAAAGTCtctttggcgcgatgcacaag\n",
    "CREDEC\tCGCAAACTGGTGCGGAAGGCatcaacgtacccacaaagtcTGGAGAACGTCGATGTAACAATCGATGTTGGGCGAACCAAatcaacgtacccacaaagtcATCAACGTACCCACAAAGTCtctttggcgcgatgcacaag\n",
    "CREDEC\tCGCAAACTGGTGCGGAAGGCatcaacgtacccacaaagtcGCGATCAAACCGTCAACACGCAGGATTCGTGCGTAGAGGAatcaacgtacccacaaagtcATCAACGTACCCACAAAGTCtctttggcgcgatgcacaag\n",
    "CREDEC\tCGCAAACTGGTGCGGAAGGCatcaacgtacccacaaagtcCTTCAAGACGCCATACTGAGCTTACTAAGCGTGTCAAGCCatcaacgtacccacaaagtcATCAACGTACCCACAAAGTCtctttggcgcgatgcacaag\n",
    "CREDEC\tCGCAAACTGGTGCGGAAGGCatcaacgtacccacaaagtcTAAAGCGCGATACACCTTGCACCCTGACGAGTGATCTTTAatcaacgtacccacaaagtcATCAACGTACCCACAAAGTCtctttggcgcgatgcacaag\n",
    "CREDEC\tCGCAAACTGGTGCGGAAGGCatcaacgtacccacaaagtcCAACGGATGCCCGATATTCACAGTCCCGTCCTTACGATAGatcaacgtacccacaaagtcATCAACGTACCCACAAAGTCtctttggcgcgatgcacaag\n",
    "CREDEC\tCGCAAACTGGTGCGGAAGGCatcaacgtacccacaaagtcCCGTCGCGTATAACCTCTTGTTTAAGCCGTAGGCGACAGAatcaacgtacccacaaagtcATCAACGTACCCACAAAGTCtctttggcgcgatgcacaag\n"
   ]
  },
  {
   "cell_type": "code",
   "execution_count": 8,
   "id": "4a72e347",
   "metadata": {},
   "outputs": [
    {
     "data": {
      "text/plain": [
       "'GGCTTGACACGCTTAGTAAGCTCAGTATGGCGTCTTGAAG'"
      ]
     },
     "execution_count": 8,
     "metadata": {},
     "output_type": "execute_result"
    }
   ],
   "source": [
    "lt.seqrc('CTTCAAGACGCCATACTGAGCTTACTAAGCGTGTCAAGCC')"
   ]
  },
  {
   "cell_type": "code",
   "execution_count": null,
   "id": "368f5e24",
   "metadata": {},
   "outputs": [],
   "source": [
    "CRE011:\n",
    "GTCGACGGCGCGCCGCGGcatgcaggtggagatggagatgctgggccgggcttgggggtcatacagacaggaccaggggctctgacctgctgggagatttggggccagcattccaggactgagagaacagatccctggcctggggtgctctggggctgaggatgggcccccacctgggctgaggatgggcccaacctgggctgaggacgAGCCACGTCGGTCGAGTTTTTTGGCTCCGTTACCGGTATTATCCGGCTAACGTAGTGCGAACCGTTCTACGCAACTCCAAaattcGCAATTCAGTACGATCGTGTgaattcCGGCTCGCAGCGTGTAAACG\n",
    "\n",
    "CRE007:\n",
    "GTCGACGGCGCGCCGCGGgaggaaggcatttttgtcctttcccccttcctgctgcatgcctggaatgggaaatgctggctcgtacttctacagccatcttggaacacaaagtaacactgaggatggaagctaaatattgaatataggacatataggaatctggtccctgtacaaaccatggagagagttcatgggccccagattatccaTGAACTGGATTGCGTGTTCTGCAGCACGGTTTAACTGTCCCTGACATGAGACGGCTGACTCGTCGTCCAACTTACGAGAAaattcGCAATTTGCGCTTGTTCGGCgaattcCGGCTCGCAGCGTGTAAACG\n",
    "\n",
    "BC011:\n",
    "CATTTCAGGATCACCGGCGGgaattcGCAATTCAGTACGATCGTGTgGTCGCGTTCATAACGTGCGCTAATCAGCGGTCGTTATCAGCATGTGGAGCGCGTGTAGTTAGGGGAGACCGACTACTTGTGGTATCGTCGGTTCGCTGACGATACTTTGCGCTAGTCCTTTTGCTTATCGCTATTACGGCGCCGATTGTTCGCGAATACCAAGACGACATCAGCGCAGAGTAAGATATGGTCCGGCAGTCGATACCATTAAGCGTCGCGACTAGGTAATGCGAGGCTTCTCTGAATCCGAGCCAGACCTGTTAGCGTCACCTACGACTTGgccgtccgtcatctcgttttcg\n",
    "\n",
    "BC007:\n",
    "CATTTCAGGATCACCGGCGGgaattcGCAATTTGCGCTTGTTCGGCgGCAGTGAGGTCGGATCAAAATAGTAGCGTTTGGATCCGCTTTGGTTCGCCCAACATCGATTGTTACATCGACGTTCTCCATCCTCTACGCACGAATCCTGCGTGTTGACGGTTTGATCGCGGCTTGACACGCTTAGTAAGCTCAGTATGGCGTCTTGAAGTAAAGATCACTCGTCAGGGTGCAAGGTGTATCGCGCTTTACTATCGTAAGGACGGGACTGTGAATATCGGGCATCCGTTGTCTGTCGCCTACGGCTTAAACAAGAGGTTATACGCGACGGgccgtccgtcatctcgttttcg"
   ]
  },
  {
   "cell_type": "code",
   "execution_count": null,
   "id": "e37fe5a7",
   "metadata": {},
   "outputs": [],
   "source": []
  },
  {
   "cell_type": "code",
   "execution_count": 133,
   "id": "ea3fe8d2",
   "metadata": {},
   "outputs": [],
   "source": [
    "dic_pcr = {'W1A01': 'CGGCTCGCAGCGTGTAAACG', 'W1A02': 'TAATACGACTCACTATAGGGCATTTCAGGATCACCGGCGG', 'W1A03': 'CCCGCAATGGCTGACAACCG', 'W1A04': 'TAATACGACTCACTATAGGGCGTTGTATGCCCTCCACGC', 'W1A05': 'CATTCAGCATTGCGCAACGG', 'W1A06': 'TAATACGACTCACTATAGGGTCTTCCCGCAAATGCACCG', 'W1A07': 'CGCAAACTGGTGCGGAAGGC', 'W1A08': 'TAATACGACTCACTATAGGGCCCTTTCGCGCTGCATCGAC', 'W1A09': 'TTGTTGAGGCGGCGGAAGTC', 'W1A10': 'TAATACGACTCACTATAGGGATTGCCGCATGGTTTCCG', 'W1A11': 'TTGCTAGCGTGGGCCAATCG', 'W1A12': 'TAATACGACTCACTATAGGGCCATTGCCCGCGAGGTCGAG', 'W1B01': 'TTGGGCGTGCACGTCAATTC', 'W1B02': 'TAATACGACTCACTATAGGGCAATTAATCGCCCGGTGCCA', 'W1B03': 'GACATCCAGGCGCGGACAAC', 'W1B04': 'TAATACGACTCACTATAGGGCTTGTGCATCGCGCCAAAGA', 'W1B05': 'CGGGTTTCGTTGCGCACACC', 'W1B06': 'TAATACGACTCACTATAGGGCCTGTGCGGAAATCGCGAGA', 'W1B07': 'CACGTGGCCTCTCGCACATC', 'W1B08': 'TAATACGACTCACTATAGGGCATGTGTCACCGCTCCGTGG', 'W1B09': 'TAGGCGTGTCGGCCAACCAG', 'W1B10': 'TAATACGACTCACTATAGGGCGGGTCGATCATCGGCTTTG', 'W1B11': 'TTGGACCGAGCCAGTACCGC', 'W1B12': 'TAATACGACTCACTATAGGGCAGGTTGGCCGCGACTTCTG'}\n",
    "nmA,nmB = 'W1A07','W1B04'\n",
    "pcrA = dic_pcr[nmA]\n",
    "pcrB = lt.seqrc(dic_pcr[nmB][-20:])\n",
    "lib_names,lib_seqs = [],[]\n",
    "for iC,bs in enumerate(Barcodes_):\n",
    "    B1s= bs[0::2]\n",
    "    B2s= bs[1::2]\n",
    "    R = seqsR[iC]\n",
    "    nmR = namesR[iC]\n",
    "    for b1,b2 in zip(B1s,B2s):\n",
    "        sq_pb = pcrA.upper()+R.lower()+lt.seqrc(b1+b2).upper()+R.lower()+R.upper()+pcrB.lower()\n",
    "        nm_pb = 'declib__'+nmA+'__'+nmB+'__'+nmR+'__CRE'+str(iC).zfill(3)\n",
    "        \n",
    "        lib_names.append(nm_pb)\n",
    "        lib_seqs.append(sq_pb)"
   ]
  },
  {
   "cell_type": "code",
   "execution_count": 1,
   "id": "8fcb65fe",
   "metadata": {},
   "outputs": [
    {
     "ename": "NameError",
     "evalue": "name 'np' is not defined",
     "output_type": "error",
     "traceback": [
      "\u001b[1;31m---------------------------------------------------------------------------\u001b[0m",
      "\u001b[1;31mNameError\u001b[0m                                 Traceback (most recent call last)",
      "\u001b[1;32m~\\AppData\\Local\\Temp/ipykernel_13140/2281929541.py\u001b[0m in \u001b[0;36m<module>\u001b[1;34m\u001b[0m\n\u001b[0;32m      1\u001b[0m \u001b[1;32mimport\u001b[0m \u001b[0mpandas\u001b[0m\u001b[1;33m\u001b[0m\u001b[1;33m\u001b[0m\u001b[0m\n\u001b[1;32m----> 2\u001b[1;33m \u001b[0mplate_n\u001b[0m \u001b[1;33m=\u001b[0m \u001b[0mpandas\u001b[0m\u001b[1;33m.\u001b[0m\u001b[0mDataFrame\u001b[0m\u001b[1;33m(\u001b[0m\u001b[0mnp\u001b[0m\u001b[1;33m.\u001b[0m\u001b[0marray\u001b[0m\u001b[1;33m(\u001b[0m\u001b[1;33m[\u001b[0m\u001b[1;33m[\u001b[0m\u001b[1;34m'CREDEC'\u001b[0m\u001b[1;33m]\u001b[0m\u001b[1;33m*\u001b[0m\u001b[0mlen\u001b[0m\u001b[1;33m(\u001b[0m\u001b[0mlib_seqs\u001b[0m\u001b[1;33m)\u001b[0m\u001b[1;33m,\u001b[0m\u001b[0mlib_seqs\u001b[0m\u001b[1;33m,\u001b[0m\u001b[0mlib_names\u001b[0m\u001b[1;33m]\u001b[0m\u001b[1;33m)\u001b[0m\u001b[1;33m.\u001b[0m\u001b[0mT\u001b[0m\u001b[1;33m,\u001b[0m\u001b[0mcolumns\u001b[0m\u001b[1;33m=\u001b[0m\u001b[1;33m[\u001b[0m\u001b[1;34m'Pool name'\u001b[0m\u001b[1;33m,\u001b[0m\u001b[1;34m'Sequence'\u001b[0m\u001b[1;33m,\u001b[0m\u001b[1;34m\"Sequence name\"\u001b[0m\u001b[1;33m]\u001b[0m\u001b[1;33m)\u001b[0m\u001b[1;33m\u001b[0m\u001b[1;33m\u001b[0m\u001b[0m\n\u001b[0m\u001b[0;32m      3\u001b[0m \u001b[1;32mif\u001b[0m \u001b[1;32mnot\u001b[0m \u001b[0mos\u001b[0m\u001b[1;33m.\u001b[0m\u001b[0mpath\u001b[0m\u001b[1;33m.\u001b[0m\u001b[0mexists\u001b[0m\u001b[1;33m(\u001b[0m\u001b[1;34mr'Pools'\u001b[0m\u001b[1;33m)\u001b[0m\u001b[1;33m:\u001b[0m\u001b[0mos\u001b[0m\u001b[1;33m.\u001b[0m\u001b[0mmakedirs\u001b[0m\u001b[1;33m(\u001b[0m\u001b[1;34mr'Pools'\u001b[0m\u001b[1;33m)\u001b[0m\u001b[1;33m\u001b[0m\u001b[1;33m\u001b[0m\u001b[0m\n\u001b[0;32m      4\u001b[0m \u001b[0mplate_n\u001b[0m\u001b[1;33m.\u001b[0m\u001b[0mto_excel\u001b[0m\u001b[1;33m(\u001b[0m\u001b[1;34mr'Pools/CREDEC.xls'\u001b[0m\u001b[1;33m,\u001b[0m\u001b[0mindex\u001b[0m\u001b[1;33m=\u001b[0m\u001b[1;32mFalse\u001b[0m\u001b[1;33m,\u001b[0m\u001b[0msheet_name\u001b[0m\u001b[1;33m=\u001b[0m\u001b[1;34m'CREDEC'\u001b[0m\u001b[1;33m)\u001b[0m\u001b[1;33m\u001b[0m\u001b[1;33m\u001b[0m\u001b[0m\n",
      "\u001b[1;31mNameError\u001b[0m: name 'np' is not defined"
     ]
    }
   ],
   "source": [
    "import pandas\n",
    "plate_n = pandas.DataFrame(np.array([['CREDEC']*len(lib_seqs),lib_seqs,lib_names]).T,columns=['Pool name','Sequence'])    \n",
    "if not os.path.exists(r'Pools'):os.makedirs(r'Pools')\n",
    "plate_n.to_excel(r'Pools/CREDEC.xls',index=False,sheet_name='CREDEC')\n"
   ]
  },
  {
   "cell_type": "code",
   "execution_count": 135,
   "id": "425b7309",
   "metadata": {},
   "outputs": [
    {
     "name": "stderr",
     "output_type": "stream",
     "text": [
      "C:\\Users\\Bogdan\\AppData\\Local\\Temp/ipykernel_30188/414576376.py:4: FutureWarning: As the xlwt package is no longer maintained, the xlwt engine will be removed in a future version of pandas. This is the only engine in pandas that supports writing in the xls format. Install openpyxl and write to an xlsx file instead. You can set the option io.excel.xls.writer to 'xlwt' to silence this warning. While this option is deprecated and will also raise a warning, it can be globally set and the warning suppressed.\n",
      "  plate_n.to_excel(r'Pools/enhlib.xls',index=False,sheet_name='enhlib')\n"
     ]
    }
   ],
   "source": [
    "import pandas\n",
    "plate_n = pandas.DataFrame(np.array([['enhlib']*len(enhlib),enhlib]).T,columns=['Pool name','Sequence'])    \n",
    "if not os.path.exists(r'Pools'):os.makedirs(r'Pools')\n",
    "plate_n.to_excel(r'Pools/enhlib.xls',index=False,sheet_name='enhlib')\n"
   ]
  },
  {
   "cell_type": "code",
   "execution_count": 136,
   "id": "39194521",
   "metadata": {},
   "outputs": [
    {
     "name": "stderr",
     "output_type": "stream",
     "text": [
      "C:\\Users\\Bogdan\\AppData\\Local\\Temp/ipykernel_30188/2276210625.py:4: FutureWarning: As the xlwt package is no longer maintained, the xlwt engine will be removed in a future version of pandas. This is the only engine in pandas that supports writing in the xls format. Install openpyxl and write to an xlsx file instead. You can set the option io.excel.xls.writer to 'xlwt' to silence this warning. While this option is deprecated and will also raise a warning, it can be globally set and the warning suppressed.\n",
      "  plate_n.to_excel(r'Pools/barlib.xls',index=False,sheet_name='barlib')\n"
     ]
    }
   ],
   "source": [
    "import pandas\n",
    "plate_n = pandas.DataFrame(np.array([['barlib']*len(barlib),barlib]).T,columns=['Pool name','Sequence'])    \n",
    "if not os.path.exists(r'Pools'):os.makedirs(r'Pools')\n",
    "plate_n.to_excel(r'Pools/barlib.xls',index=False,sheet_name='barlib')"
   ]
  },
  {
   "cell_type": "code",
   "execution_count": 106,
   "id": "6a9330cf",
   "metadata": {},
   "outputs": [],
   "source": [
    "!\"Pools/CREDEC.xls\""
   ]
  },
  {
   "cell_type": "code",
   "execution_count": 137,
   "id": "94e4d4b8",
   "metadata": {},
   "outputs": [
    {
     "data": {
      "text/plain": [
       "('GTCGACGGCGCGCCGCGGcggatcacttaagtttgagaccaacctgggcaacatggcaaaaccccgtctctacaaaaaataaaaaatttagctgtgcatgggtggcatgtgcctgtagtcccagctacttgggtgggagcgggggctgtggcaggagaatcgcttgagcccaggaggttcaggctgtactgagccatgtctgagtcactTCTGGATGAGCCGGAGACATGGGGTCGAACTTCGATACTCTGCTATCGGAAACATCCGTCGTACACAACGCGCCAGATAAaattcCTGATCAACTTGCGCCCAGCgaattcCGGCTCGCAGCGTGTAAACG',\n",
       " 'CATTTCAGGATCACCGGCGGgaattcCTGATCAACTTGCGCCCAGCgAGATAGATGTCGGCCCAGCTTTCACGTAGACGGGGATGTTATTACGTACAGCTTACGGCGCGTATCGTCCTAGCCCATAGGAATCGACGTGGGACATCACGAAGGGGCTAGCGTCCAAAGTCTTACGTTCACGCACTAGTTGGGCACAAAGCGTCAGTCTTCACCGCCTAGCGTCTTTTCGCAGGCCACATCGGAATTGATCACTTCTCGGCCAATTCATGCTAAACATGCCGCAAAGTTATTATTCGTCAGCCTTACCATCTCGGGACTGATCGAGCTTgccgtccgtcatctcgttttcg')"
      ]
     },
     "execution_count": 137,
     "metadata": {},
     "output_type": "execute_result"
    }
   ],
   "source": [
    "enhlib[12],barlib[12]"
   ]
  },
  {
   "cell_type": "code",
   "execution_count": 81,
   "id": "2d59ebf6",
   "metadata": {},
   "outputs": [
    {
     "data": {
      "text/plain": [
       "('ACAGCATCGACTAGCGCAGTgaggaaggcatttttgtcctttcccccttcctgctgcatgcctggaatgggaaatgctggctcgtacttctacagccatcttggaacacaaagtaacactgaggatggaagctaaatattgaatataggacatataggaatctggtccctgtacaaaccatggagagagttcatgggccccagattatccaTGAACTGGATTGCGTGTTCTGCAGCACGGTTTAACTGTCCCTGACATGAGACGGCTGACTCGTCGTCCAACTTACGAGAAaattcGCAATTTGCGCTTGTTCGGCgaattcCGGCTCGCAGCGTGTAAACG',\n",
       " 'CATTTCAGGATCACCGGCGGgaattcGCAATTTGCGCTTGTTCGGCgGCAGTGAGGTCGGATCAAAATAGTAGCGTTTGGATCCGCTTTGGTTCGCCCAACATCGATTGTTACATCGACGTTCTCCATCCTCTACGCACGAATCCTGCGTGTTGACGGTTTGATCGCGGCTTGACACGCTTAGTAAGCTCAGTATGGCGTCTTGAAGTAAAGATCACTCGTCAGGGTGCAAGGTGTATCGCGCTTTACTATCGTAAGGACGGGACTGTGAATATCGGGCATCCGTTGTCTGTCGCCTACGGCTTAAACAAGAGGTTATACGCGACGGacagcatcgactagcgcagt')"
      ]
     },
     "execution_count": 81,
     "metadata": {},
     "output_type": "execute_result"
    }
   ],
   "source": [
    "enhlib[6],barlib[6]"
   ]
  },
  {
   "cell_type": "code",
   "execution_count": 139,
   "id": "78a44b63",
   "metadata": {},
   "outputs": [
    {
     "data": {
      "text/plain": [
       "'GGACAGTTAAACCGTGCTGCAGAACACGCAATCCAGTTCA'"
      ]
     },
     "execution_count": 139,
     "metadata": {},
     "output_type": "execute_result"
    }
   ],
   "source": [
    "lt.seqrc('TGAACTGGATTGCGTGTTCTGCAGCACGGTTTAACTGTCC')"
   ]
  },
  {
   "cell_type": "code",
   "execution_count": 140,
   "id": "4378401e",
   "metadata": {},
   "outputs": [
    {
     "data": {
      "text/plain": [
       "'tagaaatatccgagtggcat'"
      ]
     },
     "execution_count": 140,
     "metadata": {},
     "output_type": "execute_result"
    }
   ],
   "source": [
    "lt.seqrc('atgccactcggatatttcta')"
   ]
  },
  {
   "cell_type": "code",
   "execution_count": 141,
   "id": "cbb293be",
   "metadata": {},
   "outputs": [
    {
     "data": {
      "text/plain": [
       "['declib__W1A07__W1B04__NDB_784__CRE000',\n",
       " 'declib__W1A07__W1B04__NDB_784__CRE000',\n",
       " 'declib__W1A07__W1B04__NDB_784__CRE000',\n",
       " 'declib__W1A07__W1B04__NDB_784__CRE000',\n",
       " 'declib__W1A07__W1B04__NDB_784__CRE000',\n",
       " 'declib__W1A07__W1B04__NDB_784__CRE000',\n",
       " 'declib__W1A07__W1B04__NDB_784__CRE000',\n",
       " 'declib__W1A07__W1B04__NDB_784__CRE000',\n",
       " 'declib__W1A07__W1B04__NDB_784__CRE000',\n",
       " 'declib__W1A07__W1B04__NDB_755__CRE001',\n",
       " 'declib__W1A07__W1B04__NDB_755__CRE001',\n",
       " 'declib__W1A07__W1B04__NDB_755__CRE001',\n",
       " 'declib__W1A07__W1B04__NDB_755__CRE001',\n",
       " 'declib__W1A07__W1B04__NDB_755__CRE001',\n",
       " 'declib__W1A07__W1B04__NDB_755__CRE001',\n",
       " 'declib__W1A07__W1B04__NDB_755__CRE001',\n",
       " 'declib__W1A07__W1B04__NDB_755__CRE001',\n",
       " 'declib__W1A07__W1B04__NDB_755__CRE001',\n",
       " 'declib__W1A07__W1B04__NDB_759__CRE002',\n",
       " 'declib__W1A07__W1B04__NDB_759__CRE002',\n",
       " 'declib__W1A07__W1B04__NDB_759__CRE002',\n",
       " 'declib__W1A07__W1B04__NDB_759__CRE002',\n",
       " 'declib__W1A07__W1B04__NDB_759__CRE002',\n",
       " 'declib__W1A07__W1B04__NDB_759__CRE002',\n",
       " 'declib__W1A07__W1B04__NDB_759__CRE002',\n",
       " 'declib__W1A07__W1B04__NDB_759__CRE002',\n",
       " 'declib__W1A07__W1B04__NDB_759__CRE002',\n",
       " 'declib__W1A07__W1B04__NDB_826__CRE003',\n",
       " 'declib__W1A07__W1B04__NDB_826__CRE003',\n",
       " 'declib__W1A07__W1B04__NDB_826__CRE003',\n",
       " 'declib__W1A07__W1B04__NDB_826__CRE003',\n",
       " 'declib__W1A07__W1B04__NDB_826__CRE003',\n",
       " 'declib__W1A07__W1B04__NDB_826__CRE003',\n",
       " 'declib__W1A07__W1B04__NDB_826__CRE003',\n",
       " 'declib__W1A07__W1B04__NDB_826__CRE003',\n",
       " 'declib__W1A07__W1B04__NDB_826__CRE003',\n",
       " 'declib__W1A07__W1B04__NDB_578__CRE004',\n",
       " 'declib__W1A07__W1B04__NDB_578__CRE004',\n",
       " 'declib__W1A07__W1B04__NDB_578__CRE004',\n",
       " 'declib__W1A07__W1B04__NDB_578__CRE004',\n",
       " 'declib__W1A07__W1B04__NDB_578__CRE004',\n",
       " 'declib__W1A07__W1B04__NDB_578__CRE004',\n",
       " 'declib__W1A07__W1B04__NDB_578__CRE004',\n",
       " 'declib__W1A07__W1B04__NDB_578__CRE004',\n",
       " 'declib__W1A07__W1B04__NDB_578__CRE004',\n",
       " 'declib__W1A07__W1B04__NDB_795__CRE005',\n",
       " 'declib__W1A07__W1B04__NDB_795__CRE005',\n",
       " 'declib__W1A07__W1B04__NDB_795__CRE005',\n",
       " 'declib__W1A07__W1B04__NDB_795__CRE005',\n",
       " 'declib__W1A07__W1B04__NDB_795__CRE005',\n",
       " 'declib__W1A07__W1B04__NDB_795__CRE005',\n",
       " 'declib__W1A07__W1B04__NDB_795__CRE005',\n",
       " 'declib__W1A07__W1B04__NDB_795__CRE005',\n",
       " 'declib__W1A07__W1B04__NDB_795__CRE005',\n",
       " 'declib__W1A07__W1B04__NDB_376__CRE006',\n",
       " 'declib__W1A07__W1B04__NDB_376__CRE006',\n",
       " 'declib__W1A07__W1B04__NDB_376__CRE006',\n",
       " 'declib__W1A07__W1B04__NDB_376__CRE006',\n",
       " 'declib__W1A07__W1B04__NDB_376__CRE006',\n",
       " 'declib__W1A07__W1B04__NDB_376__CRE006',\n",
       " 'declib__W1A07__W1B04__NDB_376__CRE006',\n",
       " 'declib__W1A07__W1B04__NDB_376__CRE006',\n",
       " 'declib__W1A07__W1B04__NDB_376__CRE006',\n",
       " 'declib__W1A07__W1B04__NDB_713__CRE007',\n",
       " 'declib__W1A07__W1B04__NDB_713__CRE007',\n",
       " 'declib__W1A07__W1B04__NDB_713__CRE007',\n",
       " 'declib__W1A07__W1B04__NDB_713__CRE007',\n",
       " 'declib__W1A07__W1B04__NDB_713__CRE007',\n",
       " 'declib__W1A07__W1B04__NDB_713__CRE007',\n",
       " 'declib__W1A07__W1B04__NDB_713__CRE007',\n",
       " 'declib__W1A07__W1B04__NDB_713__CRE007',\n",
       " 'declib__W1A07__W1B04__NDB_713__CRE007',\n",
       " 'declib__W1A07__W1B04__NDB_777__CRE008',\n",
       " 'declib__W1A07__W1B04__NDB_777__CRE008',\n",
       " 'declib__W1A07__W1B04__NDB_777__CRE008',\n",
       " 'declib__W1A07__W1B04__NDB_777__CRE008',\n",
       " 'declib__W1A07__W1B04__NDB_777__CRE008',\n",
       " 'declib__W1A07__W1B04__NDB_777__CRE008',\n",
       " 'declib__W1A07__W1B04__NDB_777__CRE008',\n",
       " 'declib__W1A07__W1B04__NDB_777__CRE008',\n",
       " 'declib__W1A07__W1B04__NDB_777__CRE008',\n",
       " 'declib__W1A07__W1B04__NDB_865__CRE009',\n",
       " 'declib__W1A07__W1B04__NDB_865__CRE009',\n",
       " 'declib__W1A07__W1B04__NDB_865__CRE009',\n",
       " 'declib__W1A07__W1B04__NDB_865__CRE009',\n",
       " 'declib__W1A07__W1B04__NDB_865__CRE009',\n",
       " 'declib__W1A07__W1B04__NDB_865__CRE009',\n",
       " 'declib__W1A07__W1B04__NDB_865__CRE009',\n",
       " 'declib__W1A07__W1B04__NDB_865__CRE009',\n",
       " 'declib__W1A07__W1B04__NDB_865__CRE009',\n",
       " 'declib__W1A07__W1B04__NDB_533__CRE010',\n",
       " 'declib__W1A07__W1B04__NDB_533__CRE010',\n",
       " 'declib__W1A07__W1B04__NDB_533__CRE010',\n",
       " 'declib__W1A07__W1B04__NDB_533__CRE010',\n",
       " 'declib__W1A07__W1B04__NDB_533__CRE010',\n",
       " 'declib__W1A07__W1B04__NDB_533__CRE010',\n",
       " 'declib__W1A07__W1B04__NDB_533__CRE010',\n",
       " 'declib__W1A07__W1B04__NDB_533__CRE010',\n",
       " 'declib__W1A07__W1B04__NDB_533__CRE010',\n",
       " 'declib__W1A07__W1B04__NDB_801__CRE011',\n",
       " 'declib__W1A07__W1B04__NDB_801__CRE011',\n",
       " 'declib__W1A07__W1B04__NDB_801__CRE011',\n",
       " 'declib__W1A07__W1B04__NDB_801__CRE011',\n",
       " 'declib__W1A07__W1B04__NDB_801__CRE011',\n",
       " 'declib__W1A07__W1B04__NDB_801__CRE011',\n",
       " 'declib__W1A07__W1B04__NDB_801__CRE011',\n",
       " 'declib__W1A07__W1B04__NDB_801__CRE011',\n",
       " 'declib__W1A07__W1B04__NDB_801__CRE011',\n",
       " 'declib__W1A07__W1B04__NDB_817__CRE012',\n",
       " 'declib__W1A07__W1B04__NDB_817__CRE012',\n",
       " 'declib__W1A07__W1B04__NDB_817__CRE012',\n",
       " 'declib__W1A07__W1B04__NDB_817__CRE012',\n",
       " 'declib__W1A07__W1B04__NDB_817__CRE012',\n",
       " 'declib__W1A07__W1B04__NDB_817__CRE012',\n",
       " 'declib__W1A07__W1B04__NDB_817__CRE012',\n",
       " 'declib__W1A07__W1B04__NDB_817__CRE012',\n",
       " 'declib__W1A07__W1B04__NDB_817__CRE012',\n",
       " 'declib__W1A07__W1B04__NDB_725__CRE013',\n",
       " 'declib__W1A07__W1B04__NDB_725__CRE013',\n",
       " 'declib__W1A07__W1B04__NDB_725__CRE013',\n",
       " 'declib__W1A07__W1B04__NDB_725__CRE013',\n",
       " 'declib__W1A07__W1B04__NDB_725__CRE013',\n",
       " 'declib__W1A07__W1B04__NDB_725__CRE013',\n",
       " 'declib__W1A07__W1B04__NDB_725__CRE013',\n",
       " 'declib__W1A07__W1B04__NDB_725__CRE013',\n",
       " 'declib__W1A07__W1B04__NDB_725__CRE013',\n",
       " 'declib__W1A07__W1B04__NDB_807__CRE014',\n",
       " 'declib__W1A07__W1B04__NDB_807__CRE014',\n",
       " 'declib__W1A07__W1B04__NDB_807__CRE014',\n",
       " 'declib__W1A07__W1B04__NDB_807__CRE014',\n",
       " 'declib__W1A07__W1B04__NDB_807__CRE014',\n",
       " 'declib__W1A07__W1B04__NDB_807__CRE014',\n",
       " 'declib__W1A07__W1B04__NDB_807__CRE014',\n",
       " 'declib__W1A07__W1B04__NDB_807__CRE014',\n",
       " 'declib__W1A07__W1B04__NDB_807__CRE014',\n",
       " 'declib__W1A07__W1B04__NDB_652__CRE015',\n",
       " 'declib__W1A07__W1B04__NDB_652__CRE015',\n",
       " 'declib__W1A07__W1B04__NDB_652__CRE015',\n",
       " 'declib__W1A07__W1B04__NDB_652__CRE015',\n",
       " 'declib__W1A07__W1B04__NDB_652__CRE015',\n",
       " 'declib__W1A07__W1B04__NDB_652__CRE015',\n",
       " 'declib__W1A07__W1B04__NDB_652__CRE015',\n",
       " 'declib__W1A07__W1B04__NDB_652__CRE015',\n",
       " 'declib__W1A07__W1B04__NDB_652__CRE015',\n",
       " 'declib__W1A07__W1B04__NDB_710__CRE016',\n",
       " 'declib__W1A07__W1B04__NDB_710__CRE016',\n",
       " 'declib__W1A07__W1B04__NDB_710__CRE016',\n",
       " 'declib__W1A07__W1B04__NDB_710__CRE016',\n",
       " 'declib__W1A07__W1B04__NDB_710__CRE016',\n",
       " 'declib__W1A07__W1B04__NDB_710__CRE016',\n",
       " 'declib__W1A07__W1B04__NDB_710__CRE016',\n",
       " 'declib__W1A07__W1B04__NDB_710__CRE016',\n",
       " 'declib__W1A07__W1B04__NDB_710__CRE016',\n",
       " 'declib__W1A07__W1B04__NDB_690__CRE017',\n",
       " 'declib__W1A07__W1B04__NDB_690__CRE017',\n",
       " 'declib__W1A07__W1B04__NDB_690__CRE017',\n",
       " 'declib__W1A07__W1B04__NDB_690__CRE017',\n",
       " 'declib__W1A07__W1B04__NDB_690__CRE017',\n",
       " 'declib__W1A07__W1B04__NDB_690__CRE017',\n",
       " 'declib__W1A07__W1B04__NDB_690__CRE017',\n",
       " 'declib__W1A07__W1B04__NDB_690__CRE017',\n",
       " 'declib__W1A07__W1B04__NDB_690__CRE017',\n",
       " 'declib__W1A07__W1B04__NDB_718__CRE018',\n",
       " 'declib__W1A07__W1B04__NDB_718__CRE018',\n",
       " 'declib__W1A07__W1B04__NDB_718__CRE018',\n",
       " 'declib__W1A07__W1B04__NDB_718__CRE018',\n",
       " 'declib__W1A07__W1B04__NDB_718__CRE018',\n",
       " 'declib__W1A07__W1B04__NDB_718__CRE018',\n",
       " 'declib__W1A07__W1B04__NDB_718__CRE018',\n",
       " 'declib__W1A07__W1B04__NDB_718__CRE018',\n",
       " 'declib__W1A07__W1B04__NDB_718__CRE018',\n",
       " 'declib__W1A07__W1B04__NDB_971__CRE019',\n",
       " 'declib__W1A07__W1B04__NDB_971__CRE019',\n",
       " 'declib__W1A07__W1B04__NDB_971__CRE019',\n",
       " 'declib__W1A07__W1B04__NDB_971__CRE019',\n",
       " 'declib__W1A07__W1B04__NDB_971__CRE019',\n",
       " 'declib__W1A07__W1B04__NDB_971__CRE019',\n",
       " 'declib__W1A07__W1B04__NDB_971__CRE019',\n",
       " 'declib__W1A07__W1B04__NDB_971__CRE019',\n",
       " 'declib__W1A07__W1B04__NDB_971__CRE019']"
      ]
     },
     "execution_count": 141,
     "metadata": {},
     "output_type": "execute_result"
    }
   ],
   "source": [
    "lib_names"
   ]
  },
  {
   "cell_type": "markdown",
   "id": "b0d604e6",
   "metadata": {},
   "source": [
    "### backbone"
   ]
  },
  {
   "cell_type": "code",
   "execution_count": 1,
   "id": "95d8b20c",
   "metadata": {},
   "outputs": [],
   "source": [
    "txt = \"\"\"\n",
    "       1 cctgcaggca gctgcgcgct cgctcgctca ctgaggccgc ccgggcgtcg ggcgaccttt\n",
    "       61 ggtcgcccgg cctcagtgag cgagcgagcg cgcagagagg gagtggccaa ctccatcact\n",
    "      121 aggggttcct gcggccgcac gcgtgtgttc tcggcgagag tcgtgagctc agaggtaggc\n",
    "      181 gtgtacggtg ggaggcctat ataagcagag ctggtttagt gaaccgtcag atcgcctggg\n",
    "      241 gatccagatc tttcgaagct agcgctaccg gtcgccacca tggtgagcaa gggcgaggag\n",
    "      301 ctgttcaccg gggtggtgcc catcctggtc gagctggacg gcgacgtaaa cggccacaag\n",
    "      361 ttcagcgtgt ccggcgaggg cgagggcgat gccacctacg gcaagctgac cctgaagctg\n",
    "      421 atctgcacca ccggcaagct gcccgtgccc tggcccaccc tcgtgaccac cctgggctac\n",
    "      481 ggcgtgcagt gcttcgcccg ctaccccgac cacatgaagc agcacgactt cttcaagtcc\n",
    "      541 gccatgcccg aaggctacgt ccaggagcgc accatcttct tcaaggacga cggcaactac\n",
    "      601 aagacccgcg ccgaggtgaa gttcgagggc gacaccctgg tgaaccgcat cgagctgaag\n",
    "      661 ggcatcgact tcaaggagga cggcaacatc ctggggcaca agctggagta caactacaac\n",
    "      721 agccacaacg tctatatcac cgccgacaag cagaagaacg gcatcaaggc caacttcaag\n",
    "      781 atccgccaca acatcgagga cggcggcgtg cagctcgccg accactacca gcagaacacc\n",
    "      841 cccatcggcg acggccccgt gctgctgccc gacaaccact acctgagcta ccagtccaag\n",
    "      901 ctgagcaaag accccaacga gaagcgcgat cacatggtcc tgctggagtt cgtgaccgcc\n",
    "      961 gccgggatca ctctcggcat ggacgagctg tacaagtaag tcgacggcgc gccgcggccg\n",
    "     1021 cgaattcgat atcataatca acctctggat tacaaaattt gtgaaagatt gactggtatt\n",
    "     1081 cttaactatg ttgctccttt tacgctatgt ggatacgctg ctttaatgcc tttgtatcat\n",
    "     1141 gctattgctt cccgtatggc tttcattttc tcctccttgt ataaatcctg gttagttctt\n",
    "     1201 gccacggcgg aactcatcgc cgcctgcctt gcccgctgct ggacaggggc tcggctgttg\n",
    "     1261 ggcactgaca attccgtggc tcgagagatc ttcgactgtg ccttctagtt gccagccatc\n",
    "     1321 tgttgtttgc ccctcccccg tgccttcctt gaccctggaa ggtgccactc ccactgtcct\n",
    "     1381 ttcctaataa aatgaggaaa ttgcatcgca ttgtctgagt aggtgtcatt ctattctggg\n",
    "     1441 gggtggggtg gggcaggaca gcaaggggga ggattgggaa gacaatagca ggcatgagat\n",
    "     1501 ctcacgtgcg gaccgagcgg ccgcaggaac ccctagtgat ggagttggcc actccctctc\n",
    "     1561 tgcgcgctcg ctcgctcact gaggccgggc gaccaaaggt cgcccgacgc ccgggctttg\n",
    "     1621 cccgggcggc ctcagtgagc gagcgagcgc gcagctgcct gcaggggcgc ctgatgcggt\n",
    "     1681 attttctcct tacgcatctg tgcggtattt cacaccgcat acgtcaaagc aaccatagta\n",
    "     1741 cgcgccctgt agcggcgcat taagcgcggc gggtgtggtg gttacgcgca gcgtgaccgc\n",
    "     1801 tacacttgcc agcgccttag cgcccgctcc tttcgctttc ttcccttcct ttctcgccac\n",
    "     1861 gttcgccggc tttccccgtc aagctctaaa tcgggggctc cctttagggt tccgatttag\n",
    "     1921 tgctttacgg cacctcgacc ccaaaaaact tgatttgggt gatggttcac gtagtgggcc\n",
    "     1981 atcgccctga tagacggttt ttcgcccttt gacgttggag tccacgttct ttaatagtgg\n",
    "     2041 actcttgttc caaactggaa caacactcaa ctctatctcg ggctattctt ttgatttata\n",
    "     2101 agggattttg ccgatttcgg tctattggtt aaaaaatgag ctgatttaac aaaaatttaa\n",
    "     2161 cgcgaatttt aacaaaatat taacgtttac aattttatgg tgcactctca gtacaatctg\n",
    "     2221 ctctgatgcc gcatagttaa gccagccccg acacccgcca acacccgctg acgcgccctg\n",
    "     2281 acgggcttgt ctgctcccgg catccgctta cagacaagct gtgaccgtct ccgggagctg\n",
    "     2341 catgtgtcag aggttttcac cgtcatcacc gaaacgcgcg agacgaaagg gcctcgtgat\n",
    "     2401 acgcctattt ttataggtta atgtcatgat aataatggtt tcttagacgt caggtggcac\n",
    "     2461 ttttcgggga aatgtgcgcg gaacccctat ttgtttattt ttctaaatac attcaaatat\n",
    "     2521 gtatccgctc atgagacaat aaccctgata aatgcttcaa taatattgaa aaaggaagag\n",
    "     2581 tatgagtatt caacatttcc gtgtcgccct tattcccttt tttgcggcat tttgccttcc\n",
    "     2641 tgtttttgct cacccagaaa cgctggtgaa agtaaaagat gctgaagatc agttgggtgc\n",
    "     2701 acgagtgggt tacatcgaac tggatctcaa cagcggtaag atccttgaga gttttcgccc\n",
    "     2761 cgaagaacgt tttccaatga tgagcacttt taaagttctg ctatgtggcg cggtattatc\n",
    "     2821 ccgtattgac gccgggcaag agcaactcgg tcgccgcata cactattctc agaatgactt\n",
    "     2881 ggttgagtac tcaccagtca cagaaaagca tcttacggat ggcatgacag taagagaatt\n",
    "     2941 atgcagtgct gccataacca tgagtgataa cactgcggcc aacttacttc tgacaacgat\n",
    "     3001 cggaggaccg aaggagctaa ccgctttttt gcacaacatg ggggatcatg taactcgcct\n",
    "     3061 tgatcgttgg gaaccggagc tgaatgaagc cataccaaac gacgagcgtg acaccacgat\n",
    "     3121 gcctgtagca atggcaacaa cgttgcgcaa actattaact ggcgaactac ttactctagc\n",
    "     3181 ttcccggcaa caattaatag actggatgga ggcggataaa gttgcaggac cacttctgcg\n",
    "     3241 ctcggccctt ccggctggct ggtttattgc tgataaatct ggagccggtg agcgtgggtc\n",
    "     3301 tcgcggtatc attgcagcac tggggccaga tggtaagccc tcccgtatcg tagttatcta\n",
    "     3361 cacgacgggg agtcaggcaa ctatggatga acgaaataga cagatcgctg agataggtgc\n",
    "     3421 ctcactgatt aagcattggt aactgtcaga ccaagtttac tcatatatac tttagattga\n",
    "     3481 tttaaaactt catttttaat ttaaaaggat ctaggtgaag atcctttttg ataatctcat\n",
    "     3541 gaccaaaatc ccttaacgtg agttttcgtt ccactgagcg tcagaccccg tagaaaagat\n",
    "     3601 caaaggatct tcttgagatc ctttttttct gcgcgtaatc tgctgcttgc aaacaaaaaa\n",
    "     3661 accaccgcta ccagcggtgg tttgtttgcc ggatcaagag ctaccaactc tttttccgaa\n",
    "     3721 ggtaactggc ttcagcagag cgcagatacc aaatactgtt cttctagtgt agccgtagtt\n",
    "     3781 aggccaccac ttcaagaact ctgtagcacc gcctacatac ctcgctctgc taatcctgtt\n",
    "     3841 accagtggct gctgccagtg gcgataagtc gtgtcttacc gggttggact caagacgata\n",
    "     3901 gttaccggat aaggcgcagc ggtcgggctg aacggggggt tcgtgcacac agcccagctt\n",
    "     3961 ggagcgaacg acctacaccg aactgagata cctacagcgt gagctatgag aaagcgccac\n",
    "     4021 gcttcccgaa gggagaaagg cggacaggta tccggtaagc ggcagggtcg gaacaggaga\n",
    "     4081 gcgcacgagg gagcttccag ggggaaacgc ctggtatctt tatagtcctg tcgggtttcg\n",
    "     4141 ccacctctga cttgagcgtc gatttttgtg atgctcgtca ggggggcgga gcctatggaa\n",
    "     4201 aaacgccagc aacgcggcct ttttacggtt cctggccttt tgctggcctt ttgctcacat\n",
    "     4261 gt\n",
    "\"\"\""
   ]
  },
  {
   "cell_type": "markdown",
   "id": "6159abfb",
   "metadata": {},
   "source": [
    "### Add minimal promoter"
   ]
  },
  {
   "cell_type": "code",
   "execution_count": 11,
   "id": "be955593",
   "metadata": {},
   "outputs": [],
   "source": [
    "import pandas as pd\n",
    "plate_ch = pd.read_excel(r'Pools/enhlib.xls')"
   ]
  },
  {
   "cell_type": "code",
   "execution_count": 14,
   "id": "5cffa2e8",
   "metadata": {},
   "outputs": [],
   "source": []
  },
  {
   "cell_type": "code",
   "execution_count": 31,
   "id": "dfea8341",
   "metadata": {},
   "outputs": [
    {
     "name": "stderr",
     "output_type": "stream",
     "text": [
      "C:\\Users\\Bogdan\\AppData\\Local\\Temp/ipykernel_14088/1734153972.py:17: FutureWarning: As the xlwt package is no longer maintained, the xlwt engine will be removed in a future version of pandas. This is the only engine in pandas that supports writing in the xls format. Install openpyxl and write to an xlsx file instead. You can set the option io.excel.xls.writer to 'xlwt' to silence this warning. While this option is deprecated and will also raise a warning, it can be globally set and the warning suppressed.\n",
      "  plate_ch.to_excel(r'Pools/enhlibV2.xls',index=False,sheet_name='enhlibV2')\n"
     ]
    }
   ],
   "source": [
    "import pandas as pd\n",
    "plate_ch = pd.read_excel(r'Pools/enhlib.xls')\n",
    "seqs = list(plate_ch['Sequence'])\n",
    "sq = seqs[0]\n",
    "seqs_new = []\n",
    "Primer_A = 'ctcggcgagagtcgtgAGCT'.upper()\n",
    "minP = 'ggtaggcgtgtacggtgggaggcctatataagcagagct'.upper()\n",
    "Primer_F = 'cagatctttcgaagctagcg'.upper()\n",
    "for sq in seqs:\n",
    "    sqs_ = lt.up_down_split(sq)\n",
    "    sqs_[0]=Primer_A\n",
    "    sqs_[2] = minP+sqs_[2][len(minP):]\n",
    "    sq_ = ''.join(sqs_)\n",
    "    seqs_new.append(sq_)\n",
    "plate_ch['Sequence']=seqs_new\n",
    "plate_ch['Pool name']=plate_ch['Pool name']+'V2'\n",
    "plate_ch.to_excel(r'Pools/enhlibV2.xls',index=False,sheet_name='enhlibV2')"
   ]
  },
  {
   "cell_type": "code",
   "execution_count": 35,
   "id": "6c678511",
   "metadata": {},
   "outputs": [
    {
     "name": "stderr",
     "output_type": "stream",
     "text": [
      "C:\\Users\\Bogdan\\AppData\\Local\\Temp/ipykernel_14088/2017928381.py:15: FutureWarning: As the xlwt package is no longer maintained, the xlwt engine will be removed in a future version of pandas. This is the only engine in pandas that supports writing in the xls format. Install openpyxl and write to an xlsx file instead. You can set the option io.excel.xls.writer to 'xlwt' to silence this warning. While this option is deprecated and will also raise a warning, it can be globally set and the warning suppressed.\n",
      "  plate_ch.to_excel(r'Pools/barlibV2.xls',index=False,sheet_name='barlibV2')\n"
     ]
    }
   ],
   "source": [
    "import pandas as pd\n",
    "plate_ch = pd.read_excel(r'Pools/barlib.xls')\n",
    "seqs = list(plate_ch['Sequence'])\n",
    "seqs_new = []\n",
    "Primer_A = 'ctcggcgagagtcgtgAGCT'.upper()\n",
    "minP = 'ggtaggcgtgtacggtgggaggcctatataagcagagct'.upper()\n",
    "Primer_F = 'cagatctttcgaagctagcg'.lower()\n",
    "for sq in seqs:\n",
    "    sqs_ = lt.up_down_split(sq)\n",
    "    sqs_[-1]=Primer_F\n",
    "    sq_ = ''.join(sqs_)\n",
    "    seqs_new.append(sq_)\n",
    "plate_ch['Sequence']=seqs_new\n",
    "plate_ch['Pool name']=plate_ch['Pool name']+'V2'\n",
    "plate_ch.to_excel(r'Pools/barlibV2.xls',index=False,sheet_name='barlibV2')"
   ]
  },
  {
   "cell_type": "code",
   "execution_count": 38,
   "id": "232005c5",
   "metadata": {},
   "outputs": [],
   "source": [
    "#seqs"
   ]
  },
  {
   "cell_type": "code",
   "execution_count": 39,
   "id": "5adfbf64",
   "metadata": {},
   "outputs": [],
   "source": [
    "#seqs_new"
   ]
  },
  {
   "cell_type": "code",
   "execution_count": 27,
   "id": "ec54b04b",
   "metadata": {},
   "outputs": [],
   "source": [
    "Primer_A: ctcggcgagagtcgtgAGCT (5'-3')\n",
    "\n",
    "Primer_F: cagatctttcgaagctagcg (5'-3')\n",
    "minP : 5' - ggtaggcgtgtacggtgggaggcctatataagcagagct"
   ]
  },
  {
   "cell_type": "code",
   "execution_count": 28,
   "id": "b7cc1c59",
   "metadata": {},
   "outputs": [
    {
     "data": {
      "text/plain": [
       "0     enhlibV2\n",
       "1     enhlibV2\n",
       "2     enhlibV2\n",
       "3     enhlibV2\n",
       "4     enhlibV2\n",
       "5     enhlibV2\n",
       "6     enhlibV2\n",
       "7     enhlibV2\n",
       "8     enhlibV2\n",
       "9     enhlibV2\n",
       "10    enhlibV2\n",
       "11    enhlibV2\n",
       "12    enhlibV2\n",
       "13    enhlibV2\n",
       "14    enhlibV2\n",
       "15    enhlibV2\n",
       "16    enhlibV2\n",
       "17    enhlibV2\n",
       "18    enhlibV2\n",
       "19    enhlibV2\n",
       "Name: Pool name, dtype: object"
      ]
     },
     "execution_count": 28,
     "metadata": {},
     "output_type": "execute_result"
    }
   ],
   "source": [
    "plate_ch['Pool name']"
   ]
  },
  {
   "cell_type": "code",
   "execution_count": null,
   "id": "2fbffe91",
   "metadata": {},
   "outputs": [],
   "source": [
    "import pandas\n",
    "plate_n = pandas.DataFrame(np.array([['enhlib']*len(enhlib),enhlib]).T,columns=['Pool name','Sequence'])    \n",
    "if not os.path.exists(r'Pools'):os.makedirs(r'Pools')\n",
    "plate_n.to_excel(r'Pools/enhlib.xls',index=False,sheet_name='enhlib')"
   ]
  },
  {
   "cell_type": "code",
   "execution_count": 5,
   "id": "a3e80a71",
   "metadata": {},
   "outputs": [],
   "source": [
    "seq = ''.join([l for l in txt if l in 'tacg'])"
   ]
  },
  {
   "cell_type": "code",
   "execution_count": 7,
   "id": "15415164",
   "metadata": {},
   "outputs": [
    {
     "data": {
      "text/plain": [
       "1021"
      ]
     },
     "execution_count": 7,
     "metadata": {},
     "output_type": "execute_result"
    }
   ],
   "source": [
    "resB = 'GAATTC'.lower()\n",
    "seq.index(resB)\n"
   ]
  },
  {
   "cell_type": "code",
   "execution_count": 8,
   "id": "ac68684c",
   "metadata": {},
   "outputs": [
    {
     "data": {
      "text/plain": [
       "1"
      ]
     },
     "execution_count": 8,
     "metadata": {},
     "output_type": "execute_result"
    }
   ],
   "source": [
    "seq.count(resB)"
   ]
  },
  {
   "cell_type": "code",
   "execution_count": 11,
   "id": "4db7daf3",
   "metadata": {},
   "outputs": [
    {
     "data": {
      "text/plain": [
       "'aattcgatatcataatcaac'"
      ]
     },
     "execution_count": 11,
     "metadata": {},
     "output_type": "execute_result"
    }
   ],
   "source": [
    "seq[1021:][1:21]"
   ]
  },
  {
   "cell_type": "code",
   "execution_count": null,
   "id": "a08e05f7",
   "metadata": {},
   "outputs": [],
   "source": [
    "#From plasmid:\n",
    "F = 'aattcgatatcataatcaac'\n",
    "A = 'gacggcgcgccgcggccgcg'"
   ]
  },
  {
   "cell_type": "code",
   "execution_count": null,
   "id": "a8ea0c8d",
   "metadata": {},
   "outputs": [],
   "source": []
  },
  {
   "cell_type": "code",
   "execution_count": null,
   "id": "94bccdce",
   "metadata": {},
   "outputs": [],
   "source": [
    "primerA = 'gtcgacggcgcgccgcgg'.upper()\n",
    "primerF = 'GCCGTCCGTCATCTCGTTTTCGaattcgatatcataatcaac'"
   ]
  },
  {
   "cell_type": "code",
   "execution_count": null,
   "id": "5f40e8f3",
   "metadata": {},
   "outputs": [],
   "source": []
  },
  {
   "cell_type": "code",
   "execution_count": 13,
   "id": "ca819233",
   "metadata": {},
   "outputs": [
    {
     "data": {
      "text/plain": [
       "'gacggcgcgccgcggccgcg'"
      ]
     },
     "execution_count": 13,
     "metadata": {},
     "output_type": "execute_result"
    }
   ],
   "source": [
    "seq[:1021+1][-20:]"
   ]
  },
  {
   "cell_type": "code",
   "execution_count": 15,
   "id": "a4f4c5fe",
   "metadata": {},
   "outputs": [
    {
     "data": {
      "text/plain": [
       "'cctgcaggcagctgcgcgctcgctcgctcactgaggccgcccgggcgtcgggcgacctttggtcgcccggcctcagtgagcgagcgagcgcgcagagagggagtggccaactccatcactaggggttcctgcggccgcacgcgtgtgttctcggcgagagtcgtgagctcagaggtaggcgtgtacggtgggaggcctatataagcagagctggtttagtgaaccgtcagatcgcctggggatccagatctttcgaagctagcgctaccggtcgccaccatggtgagcaagggcgaggagctgttcaccggggtggtgcccatcctggtcgagctggacggcgacgtaaacggccacaagttcagcgtgtccggcgagggcgagggcgatgccacctacggcaagctgaccctgaagctgatctgcaccaccggcaagctgcccgtgccctggcccaccctcgtgaccaccctgggctacggcgtgcagtgcttcgcccgctaccccgaccacatgaagcagcacgacttcttcaagtccgccatgcccgaaggctacgtccaggagcgcaccatcttcttcaaggacgacggcaactacaagacccgcgccgaggtgaagttcgagggcgacaccctggtgaaccgcatcgagctgaagggcatcgacttcaaggaggacggcaacatcctggggcacaagctggagtacaactacaacagccacaacgtctatatcaccgccgacaagcagaagaacggcatcaaggccaacttcaagatccgccacaacatcgaggacggcggcgtgcagctcgccgaccactaccagcagaacacccccatcggcgacggccccgtgctgctgcccgacaaccactacctgagctaccagtccaagctgagcaaagaccccaacgagaagcgcgatcacatggtcctgctggagttcgtgaccgccgccgggatcactctcggcatggacgagctgtacaagtaagtcgacggcgcgccgcggccgcgaattc'"
      ]
     },
     "execution_count": 15,
     "metadata": {},
     "output_type": "execute_result"
    }
   ],
   "source": [
    "seq[:1021+6]"
   ]
  },
  {
   "cell_type": "code",
   "execution_count": null,
   "id": "3095b738",
   "metadata": {},
   "outputs": [],
   "source": [
    "plasmid:\n",
    "    \n",
    "-primer F(G)|(aattc) primer A"
   ]
  }
 ],
 "metadata": {
  "kernelspec": {
   "display_name": "Python 3 (ipykernel)",
   "language": "python",
   "name": "python3"
  },
  "language_info": {
   "codemirror_mode": {
    "name": "ipython",
    "version": 3
   },
   "file_extension": ".py",
   "mimetype": "text/x-python",
   "name": "python",
   "nbconvert_exporter": "python",
   "pygments_lexer": "ipython3",
   "version": "3.8.8"
  },
  "toc": {
   "base_numbering": 1,
   "nav_menu": {},
   "number_sections": true,
   "sideBar": true,
   "skip_h1_title": false,
   "title_cell": "Table of Contents",
   "title_sidebar": "Contents",
   "toc_cell": false,
   "toc_position": {},
   "toc_section_display": true,
   "toc_window_display": false
  }
 },
 "nbformat": 4,
 "nbformat_minor": 5
}
